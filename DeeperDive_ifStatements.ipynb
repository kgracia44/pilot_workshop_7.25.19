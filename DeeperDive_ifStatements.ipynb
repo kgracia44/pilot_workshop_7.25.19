{
 "cells": [
  {
   "cell_type": "markdown",
   "metadata": {},
   "source": [
    "# Deeper Dive: `if` statements\n"
   ]
  },
  {
   "cell_type": "markdown",
   "metadata": {},
   "source": [
    "In this section, you will learn to:\n",
    "- **write conditional tests**, which allow you to check any condition of interest.\n",
    "- **write simple if statements**\n",
    "- **create a more complex series of if statements** to identify when the exact conditions you want are present. \n",
    "- **apply this concept to lists**, so you’ll be able to write a for loop that handles most items in a list one way but handles certain items with specific values in a different way\n",
    "***"
   ]
  },
  {
   "cell_type": "markdown",
   "metadata": {},
   "source": [
    "## 1) Assignment versus Comparison\n",
    "\n",
    "\n",
    "**What's the difference between the two lines of code below?**"
   ]
  },
  {
   "cell_type": "code",
   "execution_count": null,
   "metadata": {
    "collapsed": true
   },
   "outputs": [],
   "source": [
    "car = 'bmw'\n",
    "car == 'bmw'"
   ]
  },
  {
   "cell_type": "code",
   "execution_count": null,
   "metadata": {
    "collapsed": true
   },
   "outputs": [],
   "source": []
  },
  {
   "cell_type": "markdown",
   "metadata": {},
   "source": [
    "- One ‘=’ sign is the assignment statement. This assigns a value or object to a variable.\n",
    "- Double ‘==’ sign indicates a comparison. It translates to: *Is the left side equal to the right side? *\n",
    "    - Using our example above: *Is the value assigned to the variable car equal to the value ‘bmw’?*\n"
   ]
  },
  {
   "cell_type": "code",
   "execution_count": null,
   "metadata": {
    "collapsed": true
   },
   "outputs": [],
   "source": [
    "## Answer: the difference is assignment versus comparison\n",
    "\n",
    "## What's the expected output for the code below? Why?\n",
    "car == 'audi'"
   ]
  },
  {
   "cell_type": "code",
   "execution_count": null,
   "metadata": {
    "collapsed": true
   },
   "outputs": [],
   "source": []
  },
  {
   "cell_type": "markdown",
   "metadata": {},
   "source": [
    "**Is the comparison case sensitive?**"
   ]
  },
  {
   "cell_type": "code",
   "execution_count": null,
   "metadata": {
    "collapsed": true
   },
   "outputs": [],
   "source": [
    "## Case sensitive?\n",
    "\n",
    "car == 'BMW'"
   ]
  },
  {
   "cell_type": "code",
   "execution_count": null,
   "metadata": {
    "collapsed": true
   },
   "outputs": [],
   "source": []
  },
  {
   "cell_type": "markdown",
   "metadata": {},
   "source": [
    "**How could we make the expression evaluate to True** *without changing the variable assignment*?"
   ]
  },
  {
   "cell_type": "code",
   "execution_count": null,
   "metadata": {
    "collapsed": true
   },
   "outputs": [],
   "source": [
    "# Help me write a solution...\n",
    "\n"
   ]
  },
  {
   "cell_type": "code",
   "execution_count": null,
   "metadata": {
    "collapsed": true
   },
   "outputs": [],
   "source": []
  },
  {
   "cell_type": "markdown",
   "metadata": {},
   "source": [
    "### Conditional Tests\n",
    "\n",
    "- A conditional test is an expression that can be evaluated as `True` or `False`.\n",
    "\n",
    "### Boolean Expressions\n",
    "\n",
    "- A Boolean expression is just another name for a conditional test.\n",
    "    - A Boolean value is either `True` or `False`, just like the value of a conditional expression after it has been evaluated.\n",
    "    - Boolean values are often used to keep track of certain conditions, such as whether a game is running or whether a user can edit certain content on a website.\n",
    "    - Boolean values provide an efficient way to track the state of a program or a particular condition that is important in your program.\n",
    "\n",
    "---"
   ]
  },
  {
   "cell_type": "markdown",
   "metadata": {},
   "source": [
    "***\n",
    "## 2) Checking for Equality\n",
    "\n",
    "**What boolean value do we expect for the expressions below?**"
   ]
  },
  {
   "cell_type": "code",
   "execution_count": null,
   "metadata": {
    "collapsed": true
   },
   "outputs": [],
   "source": [
    "4 == '4'"
   ]
  },
  {
   "cell_type": "code",
   "execution_count": null,
   "metadata": {
    "collapsed": true
   },
   "outputs": [],
   "source": [
    "2 == 2.0"
   ]
  },
  {
   "cell_type": "code",
   "execution_count": null,
   "metadata": {
    "collapsed": true
   },
   "outputs": [],
   "source": [
    "2 == 2.1"
   ]
  },
  {
   "cell_type": "code",
   "execution_count": null,
   "metadata": {
    "collapsed": true
   },
   "outputs": [],
   "source": []
  },
  {
   "cell_type": "markdown",
   "metadata": {},
   "source": [
    "Answers:\n",
    "- `str` and `int` will never be equal data types, so first expression is `False`\n",
    "- Numerical comparisons are mathematical comparisons, and behave as expected. \n",
    "    - Even between `int` and `float`"
   ]
  },
  {
   "cell_type": "code",
   "execution_count": null,
   "metadata": {
    "collapsed": true
   },
   "outputs": [],
   "source": []
  },
  {
   "cell_type": "markdown",
   "metadata": {},
   "source": [
    "**What boolean value do we expect for the expressions below? Why?**"
   ]
  },
  {
   "cell_type": "code",
   "execution_count": null,
   "metadata": {
    "collapsed": true
   },
   "outputs": [],
   "source": [
    "# What's happening here?\n",
    "8 != 8"
   ]
  },
  {
   "cell_type": "code",
   "execution_count": null,
   "metadata": {
    "collapsed": true
   },
   "outputs": [],
   "source": [
    "4 != 8"
   ]
  },
  {
   "cell_type": "code",
   "execution_count": null,
   "metadata": {
    "collapsed": true
   },
   "outputs": [],
   "source": []
  },
  {
   "cell_type": "code",
   "execution_count": null,
   "metadata": {
    "collapsed": true
   },
   "outputs": [],
   "source": []
  },
  {
   "cell_type": "markdown",
   "metadata": {},
   "source": [
    "Answer: \n",
    "- We are checking for inequality using the bang `!` symbol.\n",
    "- The bang `!` symbol, also known as the exclamation mark, is making the expression check if the left side is ***not*** equal to the right side.\n",
    "\n"
   ]
  },
  {
   "cell_type": "code",
   "execution_count": null,
   "metadata": {
    "collapsed": true
   },
   "outputs": [],
   "source": []
  },
  {
   "cell_type": "code",
   "execution_count": null,
   "metadata": {
    "collapsed": true
   },
   "outputs": [],
   "source": []
  },
  {
   "cell_type": "markdown",
   "metadata": {},
   "source": [
    "---\n",
    "##### Basic mathematical comparisons read like English:\n",
    "\n",
    "- The expression `age > 21` translates to *“is age greater than 21?”*\n",
    "- The expression `age <= 22` translates to *“is age less than or equal to 22?”*\n",
    "- The expression `age < 29` translates to *“is age less than 29?”*\n",
    "- The expression `age >= 29.1` translates to *“is age greater than or equal to 29.1?”*"
   ]
  },
  {
   "cell_type": "code",
   "execution_count": null,
   "metadata": {
    "collapsed": true
   },
   "outputs": [],
   "source": [
    "age = 29\n",
    "\n",
    "print(age > 21)\n",
    "print(age <= 22)\n",
    "print(age <= 29)\n",
    "print(age >= 29.1)"
   ]
  },
  {
   "cell_type": "code",
   "execution_count": null,
   "metadata": {
    "collapsed": true
   },
   "outputs": [],
   "source": []
  },
  {
   "cell_type": "markdown",
   "metadata": {},
   "source": [
    "**What is the expected output for the expressions below?**\n"
   ]
  },
  {
   "cell_type": "code",
   "execution_count": null,
   "metadata": {
    "collapsed": true
   },
   "outputs": [],
   "source": [
    "print(3 > '3')\n",
    "print(3 > 3.1)"
   ]
  },
  {
   "cell_type": "code",
   "execution_count": null,
   "metadata": {
    "collapsed": true
   },
   "outputs": [],
   "source": []
  },
  {
   "cell_type": "markdown",
   "metadata": {},
   "source": [
    "Takeaway:\n",
    "- Only `==` works for comparisons between `int` and `str`\n",
    "\n",
    "*From the DOCS:*\n",
    "- Comparing objects of different types with < or > is legal *PROVIDED* that the objects have appropriate comparison methods.\n",
    "- For example, mixed numeric types are compared according to their numeric value, so 0 equals 0.0, etc. \n",
    "- Otherwise, rather than providing an arbitrary ordering, the interpreter will raise a TypeError exception.\n",
    "\n",
    "*link to DOCS:*\n",
    "https://docs.python.org/3/tutorial/datastructures.html#comparing-sequences-and-other-types"
   ]
  },
  {
   "cell_type": "code",
   "execution_count": null,
   "metadata": {
    "collapsed": true
   },
   "outputs": [],
   "source": []
  },
  {
   "cell_type": "markdown",
   "metadata": {},
   "source": [
    "### Just a note..."
   ]
  },
  {
   "cell_type": "markdown",
   "metadata": {},
   "source": [
    "**What about the expressions below?**"
   ]
  },
  {
   "cell_type": "code",
   "execution_count": null,
   "metadata": {
    "collapsed": true
   },
   "outputs": [],
   "source": [
    "print('four' > 'two')\n",
    "print('two' > 'four')\n",
    "print('1' >= '1')\n",
    "print('1' > '1')"
   ]
  },
  {
   "cell_type": "markdown",
   "metadata": {},
   "source": [
    "***What is going on?!***\n",
    "\n",
    "\n",
    "##### GOOGLE SEARCH:\n",
    "- https://stackoverflow.com/questions/4806911/string-comparison-technique-used-by-python\n",
    "- https://thepythonguru.com/python-strings/\n",
    "\n",
    "Python uses lexicographical order (i.e. alphabetical order) when evaluating comparisons between strings.\n",
    "\n",
    "**Use the `ord()` function to see the associated lexicographical order value of a character:**"
   ]
  },
  {
   "cell_type": "code",
   "execution_count": null,
   "metadata": {
    "collapsed": true
   },
   "outputs": [],
   "source": [
    "ord('f')"
   ]
  },
  {
   "cell_type": "code",
   "execution_count": null,
   "metadata": {
    "collapsed": true
   },
   "outputs": [],
   "source": [
    "ord('t')"
   ]
  },
  {
   "cell_type": "code",
   "execution_count": null,
   "metadata": {
    "collapsed": true
   },
   "outputs": [],
   "source": [
    "# NOTE: Only works on strings\n",
    "\n",
    "ord(4)"
   ]
  },
  {
   "cell_type": "code",
   "execution_count": null,
   "metadata": {
    "collapsed": true
   },
   "outputs": [],
   "source": [
    "# NOTE: Only works on 1-character strings (len = 1)\n",
    "\n",
    "ord('woot')"
   ]
  },
  {
   "cell_type": "code",
   "execution_count": null,
   "metadata": {
    "collapsed": true
   },
   "outputs": [],
   "source": []
  },
  {
   "cell_type": "markdown",
   "metadata": {},
   "source": [
    "**You can also use the `chr()` function to see which character responds to a specified value:**"
   ]
  },
  {
   "cell_type": "code",
   "execution_count": null,
   "metadata": {
    "collapsed": true
   },
   "outputs": [],
   "source": [
    "chr(1)\n"
   ]
  },
  {
   "cell_type": "code",
   "execution_count": null,
   "metadata": {
    "collapsed": true
   },
   "outputs": [],
   "source": [
    "chr(120)"
   ]
  },
  {
   "cell_type": "code",
   "execution_count": null,
   "metadata": {
    "collapsed": true
   },
   "outputs": [],
   "source": []
  },
  {
   "cell_type": "code",
   "execution_count": null,
   "metadata": {
    "collapsed": true
   },
   "outputs": [],
   "source": []
  },
  {
   "cell_type": "markdown",
   "metadata": {},
   "source": [
    "**What is the expected output for the expressions below?**\n"
   ]
  },
  {
   "cell_type": "code",
   "execution_count": null,
   "metadata": {
    "collapsed": true
   },
   "outputs": [],
   "source": [
    "\"right\" >= \"lift\""
   ]
  },
  {
   "cell_type": "code",
   "execution_count": null,
   "metadata": {
    "collapsed": true
   },
   "outputs": [],
   "source": [
    "\"teeth\" < \"tee\""
   ]
  },
  {
   "cell_type": "markdown",
   "metadata": {
    "collapsed": true
   },
   "source": [
    "### -- END NOTE --"
   ]
  },
  {
   "cell_type": "code",
   "execution_count": null,
   "metadata": {},
   "outputs": [],
   "source": []
  },
  {
   "cell_type": "markdown",
   "metadata": {},
   "source": [
    "> **You can also compare data type classes:**"
   ]
  },
  {
   "cell_type": "code",
   "execution_count": null,
   "metadata": {
    "collapsed": true
   },
   "outputs": [],
   "source": [
    "type(age) == int"
   ]
  },
  {
   "cell_type": "code",
   "execution_count": null,
   "metadata": {
    "collapsed": true
   },
   "outputs": [],
   "source": []
  },
  {
   "cell_type": "code",
   "execution_count": null,
   "metadata": {
    "collapsed": true
   },
   "outputs": [],
   "source": []
  },
  {
   "cell_type": "markdown",
   "metadata": {},
   "source": [
    "---\n",
    "## 3) Checking Multiple Conditions\n",
    "\n",
    "Let's set some variables for this next topic."
   ]
  },
  {
   "cell_type": "code",
   "execution_count": null,
   "metadata": {
    "collapsed": true
   },
   "outputs": [],
   "source": [
    "age_1 = 25\n",
    "age_2 = 35\n",
    "age_3 = 45"
   ]
  },
  {
   "cell_type": "markdown",
   "metadata": {},
   "source": [
    "### Using `and` to check multiple conditions\n",
    "\n",
    "What's the expected boolean value for code below?\n",
    "\n",
    "How is each test evaluating?"
   ]
  },
  {
   "cell_type": "code",
   "execution_count": null,
   "metadata": {
    "collapsed": true
   },
   "outputs": [],
   "source": [
    "age_1 > 18 and age_3 > age_2"
   ]
  },
  {
   "cell_type": "code",
   "execution_count": null,
   "metadata": {
    "collapsed": true
   },
   "outputs": [],
   "source": [
    "age_2 > 18 and age_2 > 36"
   ]
  },
  {
   "cell_type": "markdown",
   "metadata": {},
   "source": [
    "Answer: Both conditions must be met in order for the expression to evaluate to `True`.\n"
   ]
  },
  {
   "cell_type": "code",
   "execution_count": null,
   "metadata": {
    "collapsed": true
   },
   "outputs": [],
   "source": [
    "age_2 > 18 and > 36"
   ]
  },
  {
   "cell_type": "markdown",
   "metadata": {},
   "source": [
    "What happened in the code above? How do we resolve that error?"
   ]
  },
  {
   "cell_type": "code",
   "execution_count": null,
   "metadata": {
    "collapsed": true
   },
   "outputs": [],
   "source": []
  },
  {
   "cell_type": "markdown",
   "metadata": {},
   "source": [
    "*Note: You can add parentheses around expressions to improve readability, but it's not required for code to run successfully.*\n",
    "***\n",
    "\n",
    "### Using `or` to check multiple conditions\n",
    "\n",
    "What's the expected boolean value for code below?\n",
    "\n",
    "How is each test evaluating?"
   ]
  },
  {
   "cell_type": "code",
   "execution_count": null,
   "metadata": {
    "collapsed": true
   },
   "outputs": [],
   "source": [
    "(age_1 > 18) or (age_3 > age_2)\n"
   ]
  },
  {
   "cell_type": "code",
   "execution_count": null,
   "metadata": {
    "collapsed": true
   },
   "outputs": [],
   "source": [
    "(age_2 > 18) or (age_2 > 36)\n"
   ]
  },
  {
   "cell_type": "code",
   "execution_count": null,
   "metadata": {
    "collapsed": true
   },
   "outputs": [],
   "source": [
    "(age_1 > age_2) or (age_2 > age_3)\n"
   ]
  },
  {
   "cell_type": "markdown",
   "metadata": {},
   "source": [
    "Answer: Only 1 condition must be met in order for the expression to evaluate to `True`."
   ]
  },
  {
   "cell_type": "code",
   "execution_count": null,
   "metadata": {
    "collapsed": true
   },
   "outputs": [],
   "source": []
  },
  {
   "cell_type": "markdown",
   "metadata": {},
   "source": [
    "---\n",
    "### Checking whether a value is in a list\n"
   ]
  },
  {
   "cell_type": "code",
   "execution_count": null,
   "metadata": {
    "collapsed": true
   },
   "outputs": [],
   "source": [
    "# Assigning variable to list.\n",
    "a_list = ['cat', 'dog', 'fish', 'pig', 'gecko']"
   ]
  },
  {
   "cell_type": "code",
   "execution_count": null,
   "metadata": {
    "collapsed": true
   },
   "outputs": [],
   "source": [
    "'gecko' in a_list\n"
   ]
  },
  {
   "cell_type": "code",
   "execution_count": null,
   "metadata": {
    "collapsed": true
   },
   "outputs": [],
   "source": [
    "# Remember: comparisons are case-sensitive. \n",
    "# A capital ‘G’ is not the same as a lowercase ‘g’ in Python\n",
    "\n",
    "'Gecko' in a_list\n"
   ]
  },
  {
   "cell_type": "markdown",
   "metadata": {},
   "source": [
    "** How do we check if a value is *NOT* in a list?***"
   ]
  },
  {
   "cell_type": "code",
   "execution_count": null,
   "metadata": {
    "collapsed": true
   },
   "outputs": [],
   "source": [
    "#### Checking whether a value is NOT in a list\n",
    "4 not in a_list"
   ]
  },
  {
   "cell_type": "code",
   "execution_count": null,
   "metadata": {
    "collapsed": true
   },
   "outputs": [],
   "source": []
  },
  {
   "cell_type": "markdown",
   "metadata": {},
   "source": [
    "---"
   ]
  },
  {
   "cell_type": "markdown",
   "metadata": {},
   "source": [
    "### 4) Simple `if` statement\n",
    "\n",
    "**NOW LET'S ACTUALLY USE THESE CONDITIONAL TESTS!**\n",
    "\n",
    "A simple if statement has one test and one action:\n",
    "\n",
    "*SYNTAX*\n",
    "\n",
    "`if conditional_test:\n",
    "    do something`"
   ]
  },
  {
   "cell_type": "code",
   "execution_count": null,
   "metadata": {
    "collapsed": true
   },
   "outputs": [],
   "source": [
    "# An example of a simple if statement\n",
    "\n",
    "age_luna = 444\n",
    "age_tim = 10\n",
    "\n",
    "if age_luna > 18:\n",
    "    print(\"You are old enough to vote.\")\n",
    "    print(\"Have you registered to vote yet?\")"
   ]
  },
  {
   "cell_type": "code",
   "execution_count": null,
   "metadata": {
    "collapsed": true
   },
   "outputs": [],
   "source": []
  },
  {
   "cell_type": "markdown",
   "metadata": {},
   "source": [
    "**What output do you expect from the following block of code?**"
   ]
  },
  {
   "cell_type": "code",
   "execution_count": null,
   "metadata": {
    "collapsed": true
   },
   "outputs": [],
   "source": [
    "if age_tim > 18:\n",
    "    print(\"You are old enough to vote.\")\n",
    "    print(\"Have you registered to vote yet?\")"
   ]
  },
  {
   "cell_type": "code",
   "execution_count": null,
   "metadata": {
    "collapsed": true
   },
   "outputs": [],
   "source": []
  },
  {
   "cell_type": "markdown",
   "metadata": {},
   "source": [
    "---\n",
    "### `if-else` statements\n",
    "- The `else` statement allows you to define an action or set of actions that are executed *when the conditional test fails.*\n",
    "- `else` is optional."
   ]
  },
  {
   "cell_type": "code",
   "execution_count": null,
   "metadata": {
    "collapsed": true
   },
   "outputs": [],
   "source": [
    "# Example\n",
    "\n",
    "if age_tim > 18:\n",
    "    print(\"You are old enough to vote.\")\n",
    "    print(\"Have you registered to vote yet?\")\n",
    "else:\n",
    "    print(\"Sorry, you are not old enough to vote.\\nGoodbye.\")"
   ]
  },
  {
   "cell_type": "markdown",
   "metadata": {},
   "source": [
    "---\n",
    "### Just a note...\n",
    "\n",
    "### SHORT CIRCUITING BEHAVIOR: shorthand `if-else` statement\n",
    "\n",
    "What is going on in the code below?"
   ]
  },
  {
   "cell_type": "code",
   "execution_count": null,
   "metadata": {
    "collapsed": true
   },
   "outputs": [],
   "source": [
    "False or print('Do Something')"
   ]
  },
  {
   "cell_type": "code",
   "execution_count": null,
   "metadata": {
    "collapsed": true
   },
   "outputs": [],
   "source": [
    "False and print('Do Something')"
   ]
  },
  {
   "cell_type": "code",
   "execution_count": null,
   "metadata": {
    "collapsed": true
   },
   "outputs": [],
   "source": [
    "True and print('Do Something')"
   ]
  },
  {
   "cell_type": "code",
   "execution_count": null,
   "metadata": {
    "collapsed": true
   },
   "outputs": [],
   "source": []
  },
  {
   "cell_type": "markdown",
   "metadata": {},
   "source": [
    "- Read the DOCS: https://docs.python.org/3/library/stdtypes.html#boolean-operations-and-or-not\n",
    "- Great article that breaks down topic: https://www.geeksforgeeks.org/short-circuiting-techniques-python/\n",
    "\n",
    "- **This is called short-circuit evaluation.**\n",
    "- The expression on the left of the `and` operator is evaluated first.\n",
    "    - If the expression on the left yields `False`, Python does not evaluate the expression on the right.\n",
    "    - So there are no unnecessary evaluations.\n",
    "    \n",
    "    \n",
    "- Similarly, for the `or` operator, left side is evaluated first: if the result is `True`, Python does not (and need not) evaluate the expression on the right."
   ]
  },
  {
   "cell_type": "code",
   "execution_count": null,
   "metadata": {
    "collapsed": true
   },
   "outputs": [],
   "source": [
    "age = 17.5\n",
    "\n",
    "age >= 18 and print('Do Something') or print('This person is not 18 or older.')"
   ]
  },
  {
   "cell_type": "markdown",
   "metadata": {},
   "source": [
    "### -- END NOTE --"
   ]
  },
  {
   "cell_type": "code",
   "execution_count": null,
   "metadata": {
    "collapsed": true
   },
   "outputs": [],
   "source": []
  },
  {
   "cell_type": "markdown",
   "metadata": {},
   "source": [
    "---\n",
    "## 5) `if-elif-else` syntax\n",
    "\n",
    "**To test more than two possible situations use Python’s if-elif-else syntax.**\n",
    "\n",
    "- Python executes only one block in an if-elif-else chain.\n",
    "- It runs each conditional test **in order until one passes**.\n",
    "- When a test passes, the code following that test is executed, **and Python skips the rest of the tests.**\n",
    "\n",
    "*SYNTAX:*\n",
    "\n",
    "`if condition:\n",
    "    do something\n",
    "elif condition 2:\n",
    "    do something\n",
    "else:\n",
    "    do this`"
   ]
  },
  {
   "cell_type": "code",
   "execution_count": null,
   "metadata": {
    "collapsed": true
   },
   "outputs": [],
   "source": []
  },
  {
   "cell_type": "markdown",
   "metadata": {},
   "source": [
    "##### Help me build a program that determines the admission cost to an amusement park using the rates below:\n",
    "\n",
    "- Admission for anyone under age 4 is free.\n",
    "- Admission for anyone between the ages of 4 and 18 is \\$5.\n",
    "- Admission for anyone age 18 or older is $10."
   ]
  },
  {
   "cell_type": "code",
   "execution_count": null,
   "metadata": {
    "collapsed": true
   },
   "outputs": [],
   "source": [
    "# Begin!\n",
    "\n",
    "age = 16\n"
   ]
  },
  {
   "cell_type": "code",
   "execution_count": null,
   "metadata": {
    "collapsed": true
   },
   "outputs": [],
   "source": []
  },
  {
   "cell_type": "code",
   "execution_count": null,
   "metadata": {
    "collapsed": true
   },
   "outputs": [],
   "source": []
  },
  {
   "cell_type": "code",
   "execution_count": null,
   "metadata": {
    "collapsed": true
   },
   "outputs": [],
   "source": []
  },
  {
   "cell_type": "markdown",
   "metadata": {},
   "source": [
    "##### What if we need to test for more than 3 conditions?\n",
    "\n",
    "Let's add an admission rate for ages 65+"
   ]
  },
  {
   "cell_type": "code",
   "execution_count": null,
   "metadata": {
    "collapsed": true
   },
   "outputs": [],
   "source": [
    "age = 66\n"
   ]
  },
  {
   "cell_type": "code",
   "execution_count": null,
   "metadata": {
    "collapsed": true
   },
   "outputs": [],
   "source": []
  },
  {
   "cell_type": "code",
   "execution_count": null,
   "metadata": {
    "collapsed": true
   },
   "outputs": [],
   "source": []
  },
  {
   "cell_type": "markdown",
   "metadata": {},
   "source": [
    "- The else block is a catchall statement.\n",
    "- **TAKEAWAY**: Be sure you are thinking about all possible conditions.\n",
    "\n",
    "##### How can we make the code in the solution above more concise?"
   ]
  },
  {
   "cell_type": "code",
   "execution_count": null,
   "metadata": {
    "collapsed": true
   },
   "outputs": [],
   "source": []
  },
  {
   "cell_type": "code",
   "execution_count": null,
   "metadata": {
    "collapsed": true
   },
   "outputs": [],
   "source": []
  },
  {
   "cell_type": "markdown",
   "metadata": {},
   "source": [
    "##### What is happening in the if statement below?"
   ]
  },
  {
   "cell_type": "code",
   "execution_count": null,
   "metadata": {
    "collapsed": true
   },
   "outputs": [],
   "source": [
    "age = 3\n",
    "\n",
    "if age <= 18:\n",
    "    price = 5\n",
    "elif age < 4:\n",
    "    price = 0\n",
    "else:\n",
    "    price = 10\n",
    "\n",
    "print(\"Your admission cost is $\" + str(price))"
   ]
  },
  {
   "cell_type": "markdown",
   "metadata": {},
   "source": [
    "**TAKEAWAY**: Order of tests matter in if-elif statement!!\n",
    "\n",
    "Let's look at another example:\n",
    "\n",
    "- In the program below, each condition is checked in order. \n",
    "- If the first is false, the next is checked, and so on. \n",
    "- If one of them is true, the corresponding branch executes, and the statement ends. \n",
    "- Even if more than one condition is true, only the first true branch executes."
   ]
  },
  {
   "cell_type": "code",
   "execution_count": null,
   "metadata": {
    "collapsed": true
   },
   "outputs": [],
   "source": [
    "choice = input(\"What is your choice?\")\n",
    "\n",
    "\n",
    "if choice == \"a\":\n",
    "    print('You chose a')\n",
    "elif choice == \"b\":\n",
    "    print('You chose b')\n",
    "elif choice == \"c\":\n",
    "    print('You chose c')\n",
    "else:\n",
    "    print(\"Invalid choice.\")"
   ]
  },
  {
   "cell_type": "markdown",
   "metadata": {},
   "source": [
    "---\n",
    "\n",
    "#### Let's review an example of a situation when the `if-elif-else` block is *NOT* the best route.\n",
    "\n",
    "What's happening in the code below?"
   ]
  },
  {
   "cell_type": "code",
   "execution_count": null,
   "metadata": {
    "collapsed": true
   },
   "outputs": [],
   "source": [
    "##### EXAMPLE OF WHEN if-elif-else block is not the best route:\n",
    "\n",
    "requested_toppings = ['mushrooms', 'extra cheese']\n",
    "\n",
    "if 'mushrooms' in requested_toppings:\n",
    "    print('Adding mushrooms...')\n",
    "elif 'pepperoni' in requested_toppings:\n",
    "    print('Adding pepperoni...')\n",
    "elif 'extra cheese' in requested_toppings:\n",
    "    print('Adding extra cheese')\n",
    "\n",
    "print(\"Your pizza is ready!\")\n",
    "\n"
   ]
  },
  {
   "cell_type": "markdown",
   "metadata": {},
   "source": [
    "**Result:**\n",
    "The program exits the `if` block when the first test evaluates to `True`.\n",
    "\n",
    "---\n",
    "\n",
    "#### Instead consider the solution below.\n",
    "\n",
    "**TAKEAWAY:** \n",
    "- If you want only one block of code to run, use an `if-elif-else` chain.\n",
    "- If more than one block of code needs to run, use a series of independent `if` statements."
   ]
  },
  {
   "cell_type": "code",
   "execution_count": null,
   "metadata": {
    "collapsed": true
   },
   "outputs": [],
   "source": [
    "requested_toppings = ['mushrooms', 'extra cheese']\n",
    "\n",
    "if 'mushrooms' in requested_toppings:\n",
    "    print('Adding mushrooms...')\n",
    "\n",
    "if 'pepperoni' in requested_toppings:\n",
    "    print('Adding pepperoni...')\n",
    "\n",
    "if 'extra cheese' in requested_toppings:\n",
    "    print('Adding extra cheese')\n",
    "\n",
    "print(\"Your pizza is ready!\")"
   ]
  },
  {
   "cell_type": "code",
   "execution_count": null,
   "metadata": {
    "collapsed": true
   },
   "outputs": [],
   "source": []
  },
  {
   "cell_type": "code",
   "execution_count": null,
   "metadata": {
    "collapsed": true
   },
   "outputs": [],
   "source": []
  },
  {
   "cell_type": "markdown",
   "metadata": {},
   "source": [
    "##### And yes, you can just use a for loop instead.\n"
   ]
  },
  {
   "cell_type": "code",
   "execution_count": null,
   "metadata": {
    "collapsed": true
   },
   "outputs": [],
   "source": [
    "\n",
    "for topping in requested_toppings:\n",
    "    print(\"Adding \" + topping + \"...\")\n",
    "\n",
    "print(\"Your pizza is ready!\")\n",
    "\n"
   ]
  },
  {
   "cell_type": "markdown",
   "metadata": {},
   "source": [
    "---\n",
    "\n",
    "## 6) Using Multiple Lists\n",
    "\n",
    "Let's review a program that uses two lists. \n",
    "\n",
    "##### What's happening in the code below?"
   ]
  },
  {
   "cell_type": "code",
   "execution_count": null,
   "metadata": {
    "collapsed": true
   },
   "outputs": [],
   "source": [
    "available_toppings = ['mushrooms', 'olives', 'green peppers',\n",
    "                      'pepperoni', 'pineapple', 'extra cheese']\n",
    "\n",
    "requested_toppings = ['mushrooms', 'french fries', 'extra cheese']\n",
    "\n",
    "for topping in requested_toppings:\n",
    "    if topping in available_toppings:\n",
    "        print(\"Adding \" + topping + \".\")\n",
    "    else:\n",
    "        print(\"Sorry, we don't have \" + topping + \".\")\n",
    "\n",
    "print(\"\\nFinished making your pizza!\")\n",
    "\n",
    "\n"
   ]
  },
  {
   "cell_type": "markdown",
   "metadata": {},
   "source": [
    "---\n",
    "\n",
    "### Checking that a list is not empty\n",
    "\n",
    "**Why is the if statement below working?**"
   ]
  },
  {
   "cell_type": "code",
   "execution_count": null,
   "metadata": {
    "collapsed": true
   },
   "outputs": [],
   "source": [
    "requested_toppings = []\n",
    "\n",
    "if requested_toppings:\n",
    "    for topping in requested_toppings:\n",
    "        print(\"Adding \" + topping + \".\")\n",
    "        print(\"\\nFinished making your pizza!\")\n",
    "else:\n",
    "    print(\"Are you sure you want a plain pizza?\")\n",
    "\n"
   ]
  },
  {
   "cell_type": "code",
   "execution_count": null,
   "metadata": {
    "collapsed": true
   },
   "outputs": [],
   "source": []
  },
  {
   "cell_type": "code",
   "execution_count": null,
   "metadata": {
    "collapsed": true
   },
   "outputs": [],
   "source": []
  },
  {
   "cell_type": "markdown",
   "metadata": {},
   "source": [
    "### Introducing the concept of *'truthiness'*\n",
    "\n",
    "** Any object is either truthy or falsey**\n",
    "- Any object can be tested for truth value, for use in an `if` or `while` condition...\n",
    "- **DOCS:** https://docs.python.org/3/library/stdtypes.html#truth-value-testing\n",
    "- **stack:** https://stackoverflow.com/questions/49021823/understadning-truthiness-of-python-strings\n",
    "\n",
    "##### What's happening in the code below?"
   ]
  },
  {
   "cell_type": "code",
   "execution_count": null,
   "metadata": {
    "collapsed": true
   },
   "outputs": [],
   "source": [
    "print(bool([]))\n"
   ]
  },
  {
   "cell_type": "code",
   "execution_count": null,
   "metadata": {
    "collapsed": true
   },
   "outputs": [],
   "source": [
    "print(bool(7))\n"
   ]
  },
  {
   "cell_type": "code",
   "execution_count": null,
   "metadata": {
    "collapsed": true
   },
   "outputs": [],
   "source": [
    "print(bool(None))\n",
    "\n",
    "## None is a built-in constant\n",
    "## DOCS: https://docs.python.org/3/library/constants.html"
   ]
  },
  {
   "cell_type": "code",
   "execution_count": null,
   "metadata": {
    "collapsed": true
   },
   "outputs": [],
   "source": [
    "print(bool(''))\n"
   ]
  },
  {
   "cell_type": "markdown",
   "metadata": {},
   "source": [
    "---\n",
    "\n",
    "## PRACTICE! Let's put this knowledge to use!\n",
    "\n",
    "#### A) How can we combine the functionality of the previous pizza toppings programs ?"
   ]
  },
  {
   "cell_type": "code",
   "execution_count": null,
   "metadata": {
    "collapsed": true
   },
   "outputs": [],
   "source": [
    "# IF TIME PERMITS, IN CLASS ACTIVITY\n"
   ]
  },
  {
   "cell_type": "code",
   "execution_count": null,
   "metadata": {
    "collapsed": true
   },
   "outputs": [],
   "source": [
    "# One solution....\n",
    "\n",
    "available_toppings = ['mushrooms', 'olives', 'green peppers',\n",
    "                      'pepperoni', 'pineapple', 'extra cheese']\n",
    "\n",
    "requested_toppings = ['mushrooms', 'french fries', 'extra cheese']\n",
    "\n",
    "\n",
    "if requested_toppings:\n",
    "    for topping in requested_toppings:\n",
    "        if topping in available_toppings:\n",
    "            print(\"Adding \" + topping + \".\")\n",
    "        else:\n",
    "            print(\"Sorry, we don't have \" + topping + \".\")\n",
    "    print('Pizza finished!')\n",
    "else:\n",
    "    print(\"Are you sure you want a plain pizza?\")\n",
    "\n"
   ]
  },
  {
   "cell_type": "markdown",
   "metadata": {},
   "source": [
    "---\n",
    "\n",
    "#### IMPORTANT NOTE:\n",
    "\n",
    "> Why can't I modify the `old_list` using a `for loop` instead of creating a `new_list`?\n",
    "https://www.quora.com/Why-can%E2%80%99t-you-modify-lists-through-for-in-loops-in-Python\n",
    "- Read question, comments, and answers\n",
    "- *DISCLAIMER:* may need to log in / create account for quora (**free**)\n",
    "\n",
    "**Basically:** \n",
    "- It is bad practice to modify a list using a `for loop` because of the risk of shortening the length of the list, and thus the index range.\n",
    "- Resulting in unexpected behavior.\n",
    "- You can use the `enumerate()` function in the `for loop` as a work around."
   ]
  },
  {
   "cell_type": "code",
   "execution_count": null,
   "metadata": {
    "collapsed": true
   },
   "outputs": [],
   "source": [
    "# Example of inability to modify list in for loop\n",
    "\n",
    "old_list = ['item 1', 2, 'three', 4, 'pie',\n",
    "            'pie', 'pie', 'pie', 'pie', 'pie']\n",
    "\n",
    "for item in old_list:\n",
    "    if item == 'pie':\n",
    "        item = 'cookie'\n",
    "        print(item)\n",
    "    else:\n",
    "        print(item)\n",
    "    \n",
    "print(old_list)"
   ]
  },
  {
   "cell_type": "code",
   "execution_count": null,
   "metadata": {
    "collapsed": true
   },
   "outputs": [],
   "source": [
    "# Example of workaround using enumerate() function\n",
    "\n",
    "old_list = ['item 1', 2, 'three', 4, 'pie', 'pie', 'pie', 'pie', 'pie', 'pie']\n",
    "\n",
    "for index, item in enumerate(old_list):\n",
    "    if item == 'pie':\n",
    "        old_list[index] = 'cookies'\n",
    "\n",
    "print(old_list)"
   ]
  },
  {
   "cell_type": "markdown",
   "metadata": {},
   "source": [
    "---\n",
    "\n",
    "### IF TIME PERMITS, IN CLASS DISCUSSION ACTIVITY\n",
    "\n",
    "When we print a message using a number from a variable, how can we print an ordinal number (such as 'th', 'st', 'rd')?\n",
    "\n",
    "Let's review one solution below, and translate the execution of the code to human-speak."
   ]
  },
  {
   "cell_type": "code",
   "execution_count": null,
   "metadata": {
    "collapsed": true
   },
   "outputs": [],
   "source": [
    "\n",
    "\n",
    "# Translate for me please...\n",
    "\n",
    "n = int(input(\"What date? or How old are you turning? \"))\n",
    "\n",
    "# What's happening here?\n",
    "i = n if (n < 20) else (n % 10)\n",
    "\n",
    "# And here?\n",
    "if i == 1:\n",
    "  suffix = 'st'\n",
    "elif i == 2:\n",
    "  suffix = 'nd'\n",
    "elif i == 3:\n",
    "  suffix = 'rd'\n",
    "elif n < 100:\n",
    "  suffix = 'th'\n",
    "\n",
    "# Finally...\n",
    "print(\"So it's the \" + str(n) + suffix)\n"
   ]
  },
  {
   "cell_type": "code",
   "execution_count": null,
   "metadata": {
    "collapsed": true
   },
   "outputs": [],
   "source": []
  }
 ],
 "metadata": {
  "kernelspec": {
   "display_name": "Python 3",
   "language": "python",
   "name": "python3"
  },
  "language_info": {
   "codemirror_mode": {
    "name": "ipython",
    "version": 3
   },
   "file_extension": ".py",
   "mimetype": "text/x-python",
   "name": "python",
   "nbconvert_exporter": "python",
   "pygments_lexer": "ipython3",
   "version": "3.6.8"
  }
 },
 "nbformat": 4,
 "nbformat_minor": 2
}
