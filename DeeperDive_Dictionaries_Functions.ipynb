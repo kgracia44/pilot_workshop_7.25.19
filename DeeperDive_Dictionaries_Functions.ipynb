{
 "cells": [
  {
   "cell_type": "markdown",
   "metadata": {},
   "source": [
    "---\n",
    "# Extra Review Questions (if needed)\n",
    "\n",
    "\n",
    "### Get through as many of the questions below.\n",
    "\n",
    "__Start!__\n",
    "___"
   ]
  },
  {
   "cell_type": "markdown",
   "metadata": {},
   "source": [
    "> __Q1) Using the lists defined below (`list1` and `list2`), add one list to the other.__\n",
    ">\n",
    "> Expected Output:\n",
    ">\n",
    "> `[1, 2, 3, 4]`\n"
   ]
  },
  {
   "cell_type": "code",
   "execution_count": null,
   "metadata": {},
   "outputs": [],
   "source": [
    "list1 = [1, 2]\n",
    "list2 = [3, 4]"
   ]
  },
  {
   "cell_type": "code",
   "execution_count": null,
   "metadata": {},
   "outputs": [],
   "source": []
  },
  {
   "cell_type": "markdown",
   "metadata": {},
   "source": [
    "---\n",
    "\n",
    "> __Q2)__ If we list all the natural numbers below 10 that are multiples of 3 or 5, we get: 3, 5, 6 and 9.\n",
    ">\n",
    "> The sum of these multiples is 23.\n",
    ">\n",
    "> __Find the sum of all the multiples of 3 or 5 below 1000.__\n"
   ]
  },
  {
   "cell_type": "code",
   "execution_count": null,
   "metadata": {},
   "outputs": [],
   "source": [
    "multiples_list = []\n"
   ]
  },
  {
   "cell_type": "code",
   "execution_count": null,
   "metadata": {},
   "outputs": [],
   "source": []
  },
  {
   "cell_type": "markdown",
   "metadata": {
    "collapsed": true
   },
   "source": [
    "---\n",
    "> __Q3)__ I have a list of genders from a database:"
   ]
  },
  {
   "cell_type": "code",
   "execution_count": null,
   "metadata": {},
   "outputs": [],
   "source": [
    "genders = ['Male', 'Female', 'Female', 'Male', 'Female', 'Male', 'Male', 'Male', 'Female', 'Female', 'Male', 'Female', 'Female', 'Female']"
   ]
  },
  {
   "cell_type": "markdown",
   "metadata": {},
   "source": [
    "> In order to use this list in a machine learning algorithm, we need `genders` to be converted to 1's and 0's.\n",
    ">\n",
    "> __First, write a for loop that appends a new list called `females` with a 1 if the gender is female and 0 otherwise.__\n",
    "\n",
    "> Expected Output:\n",
    ">\n",
    "> `[0, 1, 1, 0, 1, 0, 0, 0, 1, 1, 0, 1, 1, 1]`"
   ]
  },
  {
   "cell_type": "code",
   "execution_count": null,
   "metadata": {},
   "outputs": [],
   "source": [
    "females = []\n"
   ]
  },
  {
   "cell_type": "code",
   "execution_count": null,
   "metadata": {},
   "outputs": [],
   "source": []
  },
  {
   "cell_type": "code",
   "execution_count": null,
   "metadata": {},
   "outputs": [],
   "source": []
  },
  {
   "cell_type": "markdown",
   "metadata": {},
   "source": [
    "---\n",
    "> __Q4) Using a for loop, filter the following array of numbers into a new list containing only the even numbers.__\n",
    "\n",
    "> **Hint:** If i is even, i % 2 == 0. Otherwise, i % 2 == 1. (% is the modulus operator. It returns the remainder.)\n",
    "\n",
    "> Expected Output:\n",
    ">\n",
    "> `[2, 4, 6, 8, 10]`"
   ]
  },
  {
   "cell_type": "code",
   "execution_count": null,
   "metadata": {},
   "outputs": [],
   "source": [
    "numbers = [1, 2, 3, 4, 5, 6, 7, 8, 9, 10]\n",
    "even_numbers = []"
   ]
  },
  {
   "cell_type": "code",
   "execution_count": null,
   "metadata": {},
   "outputs": [],
   "source": []
  },
  {
   "cell_type": "code",
   "execution_count": null,
   "metadata": {},
   "outputs": [],
   "source": []
  },
  {
   "cell_type": "markdown",
   "metadata": {},
   "source": [
    "---\n",
    "> **Q5) Sort the list of numbers below from greatest to least** \n"
   ]
  },
  {
   "cell_type": "code",
   "execution_count": null,
   "metadata": {},
   "outputs": [],
   "source": [
    "numbers = [10, 2, -1, 0, 3, 5]"
   ]
  },
  {
   "cell_type": "code",
   "execution_count": null,
   "metadata": {},
   "outputs": [],
   "source": []
  },
  {
   "cell_type": "code",
   "execution_count": null,
   "metadata": {},
   "outputs": [],
   "source": []
  },
  {
   "cell_type": "markdown",
   "metadata": {},
   "source": [
    "---\n",
    "### CHALLENGE QUESTIONS\n",
    "\n",
    "> __Q6A) Create a list called `dwarves_list` that splits `dwarves_string` on the spaces.__\n",
    ">\n",
    "> *Hint: Use the method `.split()`*\n",
    "\n",
    "> Expected Output:\n",
    ">\n",
    "> `['Bashful,', 'Doc,', 'Dopey,', 'Happy,', 'Sleepy,', 'Sneezy', 'and', 'Grumpy']`"
   ]
  },
  {
   "cell_type": "code",
   "execution_count": null,
   "metadata": {},
   "outputs": [],
   "source": [
    "dwarves_string = \"Bashful, Doc, Dopey, Happy, Sleepy, Sneezy and Grumpy\""
   ]
  },
  {
   "cell_type": "code",
   "execution_count": null,
   "metadata": {},
   "outputs": [],
   "source": [
    "dwarves_list = # this is where you create a list from dwarves_string\n"
   ]
  },
  {
   "cell_type": "markdown",
   "metadata": {},
   "source": [
    "> **Q6B) Now use a for loop to remove the commas.**\n",
    "\n",
    "> *Hint: use method `.replace()` on string*\n",
    "\n",
    "> *NOTE: You'll still see commas in your output between each element in the list. Just make sure they aren't in the strings.*\n",
    "\n",
    "> Expected Output:\n",
    "\n",
    "> `['Bashful', 'Doc', 'Dopey', 'Happy', 'Sleepy', 'Sneezy', 'and', 'Grumpy']`"
   ]
  },
  {
   "cell_type": "code",
   "execution_count": null,
   "metadata": {},
   "outputs": [],
   "source": []
  },
  {
   "cell_type": "code",
   "execution_count": null,
   "metadata": {},
   "outputs": [],
   "source": []
  },
  {
   "cell_type": "markdown",
   "metadata": {},
   "source": [
    "> **Q6C) Finally, remove the word 'and' from your list.**\n",
    "\n",
    "> Expected Output:\n",
    "\n",
    "> `['Bashful,', 'Doc,', 'Dopey,', 'Happy,', 'Sleepy,', 'Sneezy', 'Grumpy']`"
   ]
  },
  {
   "cell_type": "code",
   "execution_count": null,
   "metadata": {},
   "outputs": [],
   "source": []
  },
  {
   "cell_type": "code",
   "execution_count": null,
   "metadata": {},
   "outputs": [],
   "source": []
  },
  {
   "cell_type": "markdown",
   "metadata": {},
   "source": [
    "# -- End Extra Review -- \n",
    "---"
   ]
  },
  {
   "cell_type": "markdown",
   "metadata": {},
   "source": [
    "# Deeper Dive: Dictionaries and Functions"
   ]
  },
  {
   "cell_type": "markdown",
   "metadata": {},
   "source": [
    "In this section, you will learn how to:\n",
    "- **use Python’s dictionaries**, which allow you to connect pieces of related information. \n",
    "- **access and modify** the information in a dictionary. \n",
    "- **loop through** the data in **a dictionary**. \n",
    "- **nest dictionaries** inside lists, lists inside dictionaries, and even dictionaries inside other dictionaries.\n",
    "***"
   ]
  },
  {
   "cell_type": "markdown",
   "metadata": {},
   "source": [
    "---\n",
    "\n",
    "**Below is a phone directory, which is a great example of a dictionary.**\n",
    "\n",
    "*[Why is that?]*"
   ]
  },
  {
   "cell_type": "code",
   "execution_count": null,
   "metadata": {},
   "outputs": [],
   "source": [
    "#-----------------------------#\n",
    "# Luna          | 444 - 4444\n",
    "# Tee           | 123 - 4567\n",
    "# Ada Lovelace  | 101 - 0101\n",
    "#-----------------------------#"
   ]
  },
  {
   "cell_type": "markdown",
   "metadata": {},
   "source": [
    "**Using what we have learned so far, how would we build a program that takes a name and provides me with the person’s number if they are in our contacts?**\n"
   ]
  },
  {
   "cell_type": "code",
   "execution_count": null,
   "metadata": {},
   "outputs": [],
   "source": [
    "# One possible solution: \n",
    "\n",
    "person_to_find = input(\"Whose number do you need? \")\n",
    "\n",
    "if person_to_find.title() == 'Luna':\n",
    "    print('444 - 4444')\n",
    "elif person_to_find.title() == 'Tee':\n",
    "    print('123 - 4567')\n",
    "elif person_to_find.title() == 'Ada Lovelace':\n",
    "    print('101 - 0101')\n",
    "else:\n",
    "    print(\"You are not friends with that person. Sorry.\")"
   ]
  },
  {
   "cell_type": "markdown",
   "metadata": {},
   "source": [
    "#### TAKEAWAY: When an if-elif-else chain isn’t the best approach...\n",
    "\n",
    "What is the biggest issue with using an `if-elif-else` chain to keep track of information as we did in the phonebook solution above?\n",
    "\n",
    "The biggest issue is the fact that the solution is hard-coding information into the program, rather than storing and accessing information in a collection.\n"
   ]
  },
  {
   "cell_type": "markdown",
   "metadata": {
    "collapsed": true
   },
   "source": [
    "##### Enter: Dictionaries\n",
    "\n",
    "- A dictionary is a collection of key-value pairs.\n",
    "- A key-value pair is a set of values associated with each other.\n",
    "- A dictionary is accessed by key (not position)\n",
    "- A key is unique and *must* be immutable.\n",
    "\n",
    "Below is our phone directory in a python dictionary object:"
   ]
  },
  {
   "cell_type": "code",
   "execution_count": null,
   "metadata": {},
   "outputs": [],
   "source": [
    "phone_book = {\n",
    "    'Luna': '444 - 4444',\n",
    "    'Tee': '123 - 4567',\n",
    "    'Ada Lovelace': '101 - 0101',\n",
    "    }"
   ]
  },
  {
   "cell_type": "markdown",
   "metadata": {},
   "source": [
    "> _SYNTAX:_\n",
    "\n",
    "> `dictionary_name = { ‘key1’: ‘value1’, ‘key2’: ’value2’ }`\n",
    "\n",
    "- Dictionaries are indicated by the curly braces `{ }`\n",
    "- Key-value pairs are separated by commas\n",
    "- Keys precede their values and go before the colon `:` Values go after the colon\n",
    "\n",
    "---\n",
    "\n",
    "__To get the value associated with a key:__ \n",
    "- give the name of the dictionary\n",
    "- and then place the key inside a set of square brackets\n",
    "\n",
    "as shown below:"
   ]
  },
  {
   "cell_type": "code",
   "execution_count": null,
   "metadata": {},
   "outputs": [],
   "source": [
    "print(phone_book['Luna'])"
   ]
  },
  {
   "cell_type": "markdown",
   "metadata": {},
   "source": [
    "##### And you can assign values found in the dictionary to variables by referencing their keys.\n"
   ]
  },
  {
   "cell_type": "code",
   "execution_count": null,
   "metadata": {},
   "outputs": [],
   "source": [
    "person_to_find = (input(\"Whose number do you need? \"))   ## .title()\n",
    "number = phone_book[person_to_find]\n",
    "\n",
    "print(person_to_find + \": \" + number)"
   ]
  },
  {
   "cell_type": "markdown",
   "metadata": {},
   "source": [
    "**Is the key case-sensitive?**"
   ]
  },
  {
   "cell_type": "code",
   "execution_count": null,
   "metadata": {},
   "outputs": [],
   "source": []
  },
  {
   "cell_type": "markdown",
   "metadata": {},
   "source": [
    "---\n",
    "# GUIDED WALKTHROUGH: Dictionaries"
   ]
  },
  {
   "cell_type": "markdown",
   "metadata": {},
   "source": [
    "---\n",
    "## Working with Dictionaries\n",
    "\n",
    "### Accessing items in a Dictionary\n",
    "- reference key for value\n",
    "- .keys()\n",
    "- .values()"
   ]
  },
  {
   "cell_type": "code",
   "execution_count": null,
   "metadata": {},
   "outputs": [],
   "source": [
    "# Let's continue with our phonebook example.\n",
    "\n",
    "phone_book = {\n",
    "    'Luna': '444 - 4444',\n",
    "    'Tee': '123 - 4567',\n",
    "    'Ada Lovelace': '101 - 0101',\n",
    "    }"
   ]
  },
  {
   "cell_type": "markdown",
   "metadata": {},
   "source": [
    "---\n",
    "\n",
    "**To access the information in a dictionary object, you can reference a key for its value using the syntax shown below.**\n",
    "\n",
    "> SYNTAX:\n",
    "\n",
    "> `dictionary_name['key'] ==> 'value'`"
   ]
  },
  {
   "cell_type": "code",
   "execution_count": null,
   "metadata": {},
   "outputs": [],
   "source": [
    "phone_book['Ada Lovelace']"
   ]
  },
  {
   "cell_type": "markdown",
   "metadata": {},
   "source": [
    "But what if you don't know what keys exist in the dictionary?\n",
    "\n",
    "---\n",
    "**To check what keys are in the dictionary, use .keys() method:**\n",
    "\n",
    "(method creates an iterable view object)"
   ]
  },
  {
   "cell_type": "code",
   "execution_count": null,
   "metadata": {},
   "outputs": [],
   "source": [
    "print(phone_book.keys())\n",
    "print(type(phone_book.keys()))"
   ]
  },
  {
   "cell_type": "markdown",
   "metadata": {},
   "source": [
    "> We can loop through this iterable view object:"
   ]
  },
  {
   "cell_type": "code",
   "execution_count": null,
   "metadata": {},
   "outputs": [],
   "source": [
    "for k in phone_book.keys():\n",
    "    print(k)"
   ]
  },
  {
   "cell_type": "markdown",
   "metadata": {},
   "source": [
    "> But if we want to use it as a list object, we need to convert it."
   ]
  },
  {
   "cell_type": "code",
   "execution_count": null,
   "metadata": {},
   "outputs": [],
   "source": [
    "list_version = list(phone_book.keys())\n",
    "\n",
    "print(list_version)\n",
    "print(type(list_version))"
   ]
  },
  {
   "cell_type": "markdown",
   "metadata": {},
   "source": [
    "> __Default behavior__ without specifying method is equivalent to using __`.keys()`__:"
   ]
  },
  {
   "cell_type": "code",
   "execution_count": null,
   "metadata": {},
   "outputs": [],
   "source": [
    "for k in phone_book:\n",
    "    print(k)"
   ]
  },
  {
   "cell_type": "markdown",
   "metadata": {},
   "source": [
    "---\n",
    "__To check what values are in the dictionary, use .values() method:__\n",
    "\n",
    "(method creates an iterable view object)"
   ]
  },
  {
   "cell_type": "code",
   "execution_count": null,
   "metadata": {},
   "outputs": [],
   "source": [
    "print(phone_book.values())"
   ]
  },
  {
   "cell_type": "markdown",
   "metadata": {},
   "source": [
    "---\n",
    "\n",
    "__You can use set for a unique list of values:__"
   ]
  },
  {
   "cell_type": "code",
   "execution_count": null,
   "metadata": {},
   "outputs": [],
   "source": [
    "favorite_languages = {\n",
    "    'jim': 'python',\n",
    "    'sarah': 'javascript',\n",
    "    'edward': 'SQL',\n",
    "    'phil': 'python',\n",
    "    }\n",
    "\n",
    "for language in set(favorite_languages.values()):\n",
    "    print(language.title())\n",
    "    \n",
    "    # Add an if statement to your for loop to uppercase all letters for SQL"
   ]
  },
  {
   "cell_type": "markdown",
   "metadata": {},
   "source": [
    "> Add an if statement to the for loop to uppercase all letters for SQL"
   ]
  },
  {
   "cell_type": "code",
   "execution_count": null,
   "metadata": {},
   "outputs": [],
   "source": [
    "# Your Solution\n",
    "\n",
    "\n"
   ]
  },
  {
   "cell_type": "markdown",
   "metadata": {
    "collapsed": true
   },
   "source": [
    "---\n",
    "__To check what items are in the dictionary, use .items() method.__\n",
    "\n",
    "(method creates an iterable view object)"
   ]
  },
  {
   "cell_type": "code",
   "execution_count": null,
   "metadata": {},
   "outputs": [],
   "source": [
    "print(phone_book.items())"
   ]
  },
  {
   "cell_type": "markdown",
   "metadata": {},
   "source": [
    "> The method creates tuple pairs (key, value)\n",
    "> - one for each entry in the dictionary"
   ]
  },
  {
   "cell_type": "code",
   "execution_count": null,
   "metadata": {},
   "outputs": [],
   "source": []
  },
  {
   "cell_type": "markdown",
   "metadata": {},
   "source": [
    "---\n",
    "## Creating dictionaries\n",
    "\n",
    "\n",
    "### Starting with an empty dictionary"
   ]
  },
  {
   "cell_type": "code",
   "execution_count": null,
   "metadata": {},
   "outputs": [],
   "source": [
    "dict_1 = {}"
   ]
  },
  {
   "cell_type": "code",
   "execution_count": null,
   "metadata": {},
   "outputs": [],
   "source": [
    "dict_1['add key'] = 'add value'\n",
    "print(dict_1)"
   ]
  },
  {
   "cell_type": "markdown",
   "metadata": {},
   "source": [
    "> Add a few more key-value pairs to the dictionary called `dict_1`. Or create your own dictionary!"
   ]
  },
  {
   "cell_type": "code",
   "execution_count": null,
   "metadata": {},
   "outputs": [],
   "source": []
  },
  {
   "cell_type": "code",
   "execution_count": null,
   "metadata": {},
   "outputs": [],
   "source": []
  },
  {
   "cell_type": "markdown",
   "metadata": {},
   "source": [
    "---\n",
    "## Updating a Dictionary\n",
    "\n",
    "\n",
    "### Adding New Key-Value Pairs\n",
    "\n",
    "Dictionaries are ___dynamic___ structures, which means you can add new key-value pairs to a dictionary at any time.\n",
    "\n",
    "To add a new key-value pair, you would give the name of the dictionary followed by the new key in square brackets along with the new value. It's the same as adding new key-value pairs to a dictionary.\n",
    "\n",
    "---\n",
    "\n",
    "**Let's add contacts to our phone_book:**"
   ]
  },
  {
   "cell_type": "code",
   "execution_count": null,
   "metadata": {},
   "outputs": [],
   "source": [
    "phone_book = {\n",
    "    'Luna': '444 - 4444',\n",
    "    'Tee': '123 - 4567',\n",
    "    'Ada Lovelace': '101 - 0101',\n",
    "    }"
   ]
  },
  {
   "cell_type": "code",
   "execution_count": null,
   "metadata": {},
   "outputs": [],
   "source": [
    "phone_book['A. Pearson'] = '232 - 2323'\n",
    "phone_book['Another Contact'] = '454 - 4545'\n",
    "\n",
    "phone_book"
   ]
  },
  {
   "cell_type": "markdown",
   "metadata": {},
   "source": [
    "> You can't have the same key twice. Consider the dictionary below:\n"
   ]
  },
  {
   "cell_type": "code",
   "execution_count": null,
   "metadata": {},
   "outputs": [],
   "source": [
    "dict_2 = {'key1': 'value', 1:'One', 2:'Two', 'Three':[1,2,3], 'key1':4}\n"
   ]
  },
  {
   "cell_type": "markdown",
   "metadata": {},
   "source": [
    "> What happens when we try to access 'key1' in dict_2?\n",
    "\n",
    "> Anything missing?"
   ]
  },
  {
   "cell_type": "code",
   "execution_count": null,
   "metadata": {},
   "outputs": [],
   "source": [
    "dict_2['key1']"
   ]
  },
  {
   "cell_type": "code",
   "execution_count": null,
   "metadata": {},
   "outputs": [],
   "source": [
    "dict_2"
   ]
  },
  {
   "cell_type": "markdown",
   "metadata": {},
   "source": [
    "> **Other notes:**\n",
    "\n",
    "> - You can use an integer for a key.\n",
    "\n",
    "> - You can have a list of items assigned to a key in a dictionary.\n",
    "\n",
    "> - Printing a key that doesn't exist gives an error.\n"
   ]
  },
  {
   "cell_type": "markdown",
   "metadata": {},
   "source": [
    "---\n",
    "### Modifying Values in a Dictionary\n",
    "\n",
    "__Assign new value to key__\n",
    "\n",
    "To modify a value in a dictionary, you can use the same syntax you used to add new entries to a dictionary: \n",
    "- give the name of the dictionary with the key in square brackets\n",
    "- then assign the new value you want associated with that key"
   ]
  },
  {
   "cell_type": "code",
   "execution_count": null,
   "metadata": {},
   "outputs": [],
   "source": [
    "phone_book.items()\n",
    "\n",
    "phone_book['A. Pearson'] = '333 - 3333'\n",
    "print(phone_book['A. Pearson'])"
   ]
  },
  {
   "cell_type": "code",
   "execution_count": null,
   "metadata": {},
   "outputs": [],
   "source": [
    "phone_book"
   ]
  },
  {
   "cell_type": "code",
   "execution_count": null,
   "metadata": {},
   "outputs": [],
   "source": []
  },
  {
   "cell_type": "markdown",
   "metadata": {},
   "source": [
    "### Removing Items from a Dictionary\n",
    "- del\n",
    "- .clear()\n",
    "- .popitem()\n",
    "- .pop()\n",
    "\n",
    "---\n",
    "\n",
    "__You can use the `del` statement to permanently and completely remove a key-value pair__ \n",
    "\n",
    "(and leave the rest of the dictionary unaffected)."
   ]
  },
  {
   "cell_type": "code",
   "execution_count": null,
   "metadata": {},
   "outputs": [],
   "source": [
    "del phone_book['A. Pearson']\n",
    "\n",
    "print(phone_book.keys())"
   ]
  },
  {
   "cell_type": "markdown",
   "metadata": {},
   "source": [
    "---\n",
    "__You can use the `.clear()` method to remove all items from a dictionary__\n"
   ]
  },
  {
   "cell_type": "code",
   "execution_count": null,
   "metadata": {},
   "outputs": [],
   "source": [
    "another_phonebook = {\n",
    "    'P1': '1emailAddress@gmail.com',\n",
    "    'P2': 'emailAddress2@gmail.com',\n",
    "    'P3': 'P3emailAddress@gmail.com',\n",
    "    }\n",
    "\n",
    "another_phonebook"
   ]
  },
  {
   "cell_type": "code",
   "execution_count": null,
   "metadata": {},
   "outputs": [],
   "source": [
    "another_phonebook.clear()\n",
    "print(another_phonebook)"
   ]
  },
  {
   "cell_type": "markdown",
   "metadata": {},
   "source": [
    "---\n",
    "__You can specify the item you want to pop out using `.pop()` method.__ \n",
    "\n",
    "- The method returns the value associated with the key that is specified, or a key error or default if key is non-existent.\n"
   ]
  },
  {
   "cell_type": "code",
   "execution_count": null,
   "metadata": {},
   "outputs": [],
   "source": [
    "pop_2 = phone_book.pop('Tee')\n",
    "\n",
    "print(phone_book)\n",
    "print('\\n')\n",
    "print(pop_2)\n",
    "\n"
   ]
  },
  {
   "cell_type": "code",
   "execution_count": null,
   "metadata": {},
   "outputs": [],
   "source": [
    "# What's happening here?\n",
    "\n",
    "pop_2 = phone_book.pop('Friend One', \"Nope\")\n",
    "\n",
    "print(pop_2)"
   ]
  },
  {
   "cell_type": "code",
   "execution_count": null,
   "metadata": {},
   "outputs": [],
   "source": []
  },
  {
   "cell_type": "code",
   "execution_count": null,
   "metadata": {},
   "outputs": [],
   "source": []
  },
  {
   "cell_type": "code",
   "execution_count": null,
   "metadata": {},
   "outputs": [],
   "source": []
  },
  {
   "cell_type": "markdown",
   "metadata": {},
   "source": [
    "---\n",
    "\n",
    "# Independent Practice: Dictionaries\n",
    "\n",
    "10 - 15 min.\n",
    "\n",
    "**Using what we have learned so far, how would we build a program that takes a name and provides me with the person’s number if they are in our contacts?**\n",
    "\n",
    "---\n",
    "\n",
    "Make a phone book program that:\n",
    "- takes a name and finds number.\n",
    "- if the name is not in the phone book, prints `\"Not a contact. Would you like to add that name: Yes or No?\"`\n",
    "- if yes, ask for the number and add number to phonebook then print: `“Added ‘Name: Phone Number’”`\n",
    "- if no, print `\"Not a contact and not added.\"`\n"
   ]
  },
  {
   "cell_type": "code",
   "execution_count": null,
   "metadata": {},
   "outputs": [],
   "source": [
    "phonebook = {\n",
    "    'Luna': '444 - 4444',\n",
    "    'Tee': '123 - 4567',\n",
    "    'Ada Lovelace': '101 - 0101',\n",
    "    'P1': '1emailAddress@gmail.com',\n",
    "    'P2': 'emailAddress2@gmail.com',\n",
    "    'P3': 'P3emailAddress@gmail.com',\n",
    "    'Friend Two': '222-222'\n",
    "    }"
   ]
  },
  {
   "cell_type": "code",
   "execution_count": null,
   "metadata": {},
   "outputs": [],
   "source": []
  },
  {
   "cell_type": "markdown",
   "metadata": {},
   "source": [
    "--- \n",
    "# Nested Dictionaries\n",
    "\n",
    "### Here is an example of a nested dictionary:"
   ]
  },
  {
   "cell_type": "code",
   "execution_count": null,
   "metadata": {},
   "outputs": [],
   "source": [
    "nested_example = {'info': {42: 1, type(''): 2}, 'spam': [1,2,3,'four']}"
   ]
  },
  {
   "cell_type": "markdown",
   "metadata": {},
   "source": [
    "> If we wanted to access the value associated with the key `42`, you would use the syntax below:"
   ]
  },
  {
   "cell_type": "code",
   "execution_count": null,
   "metadata": {},
   "outputs": [],
   "source": [
    "print(nested_example['info'][42]) # fetches 1"
   ]
  },
  {
   "cell_type": "markdown",
   "metadata": {},
   "source": [
    "---\n",
    "\n",
    "> You can nest a dictionary inside another dictionary.\n",
    "\n",
    "> For example, if you have several users for a website, each with a unique username, you can use the usernames as the keys in a dictionary.\n",
    "\n",
    "> You can then store information about each user by using a dictionary as the value associated with their username.\n",
    "\n",
    "\n",
    "In the following dictionary, we store three pieces of information about each user:\n",
    "- their first name\n",
    "- last name\n",
    "- location\n",
    "\n",
    "We’ll access this information by: \n",
    "- looping through the usernames \n",
    "- and the dictionary of information associated with each username"
   ]
  },
  {
   "cell_type": "code",
   "execution_count": null,
   "metadata": {},
   "outputs": [],
   "source": [
    "users = {\n",
    "    'aeinstein': {\n",
    "    'first': 'albert',\n",
    "    'last': 'einstein',\n",
    "    'location': 'princeton',\n",
    "    },\n",
    "    'mcurie': {\n",
    "    'first': 'marie',\n",
    "    'last': 'curie',\n",
    "    'location': 'paris',\n",
    "    },\n",
    "    }"
   ]
  },
  {
   "cell_type": "markdown",
   "metadata": {},
   "source": [
    "> **Let's review a program that loops through nested dictionaries:**\n"
   ]
  },
  {
   "cell_type": "code",
   "execution_count": null,
   "metadata": {},
   "outputs": [],
   "source": [
    "for username, user_info in users.items():\n",
    "    print(\"\\nUsername: \" + username)\n",
    "\n",
    "    full_name = user_info['first'] + \" \" + user_info['last']\n",
    "    location = user_info['location']\n",
    "    print(\"\\tFull name: \" + full_name.title())\n",
    "    print(\"\\tLocation: \" + location.title())"
   ]
  },
  {
   "cell_type": "markdown",
   "metadata": {
    "collapsed": true
   },
   "source": [
    "- In the example above, notice that the structure of each user’s dictionary is identical.\n",
    "- Although not required by Python, this structure makes nested dictionaries easier to work with.\n",
    "- If each user’s dictionary had different keys, the code inside the for loop would be more complicated.\n",
    "\n",
    "> __NOTE:__\n",
    "\n",
    "> You should not nest lists and dictionaries too deeply.\n",
    "\n",
    "> If you’re nesting items much deeper than what you see in the preceding examples or you’re working with someone else’s code with significant levels of nesting, most likely a simpler way to solve the problem exists.\n"
   ]
  },
  {
   "cell_type": "code",
   "execution_count": null,
   "metadata": {},
   "outputs": [],
   "source": []
  },
  {
   "cell_type": "code",
   "execution_count": null,
   "metadata": {},
   "outputs": [],
   "source": []
  },
  {
   "cell_type": "markdown",
   "metadata": {},
   "source": [
    "---\n",
    "# GUIDED WALKTHROUGH: Nesting Dictionaries\n",
    "\n",
    "---\n",
    "## List OF dictionaries\n",
    "\n",
    "- It’s common to store a number of dictionaries in a list when each dictionary contains many kinds of information about one object.\n",
    "\n",
    "- For example, you might create a dictionary for each user on a website and store the individual dictionaries in a list called users.\n",
    "\n",
    "- All of the dictionaries in the list **should have an identical structure** so you can loop through the list and work with each dictionary object in the same way.\n",
    "\n",
    "---\n",
    "\n",
    "> Consider the dictionary called `users` below. \n",
    "\n",
    "> **Filter through the array of users, returning only those who are older than 18. Add these users to a new list and print the list.**\n",
    "\n",
    "> Expected Output:\n",
    "\n",
    "> `[{'age': 21, 'name': 'Sally'},\n",
    "  {'age': 77, 'name': 'Moe'},\n",
    "  {'age': 19, 'name': 'Leslie'}]`"
   ]
  },
  {
   "cell_type": "code",
   "execution_count": null,
   "metadata": {},
   "outputs": [],
   "source": [
    "users = [\n",
    "    {'name': 'John', 'age': 17},\n",
    "    {'name': 'Sally', 'age': 21},\n",
    "    {'name': 'Bill', 'age': 10},\n",
    "    {'name': 'Moe', 'age': 77},\n",
    "    {'name': 'Jane', 'age': 18},\n",
    "    {'name': 'Leslie', 'age': 19}\n",
    "]"
   ]
  },
  {
   "cell_type": "code",
   "execution_count": null,
   "metadata": {},
   "outputs": [],
   "source": []
  },
  {
   "cell_type": "code",
   "execution_count": null,
   "metadata": {},
   "outputs": [],
   "source": []
  },
  {
   "cell_type": "markdown",
   "metadata": {},
   "source": [
    "> Consider the dictionary called `users` below. \n",
    "\n",
    "> **Filter through the array of users, returning only those who are students. Add these students to a new list and print the list.**\n",
    "\n",
    "> Expected Output:\n",
    "\n",
    "> `[{'name': 'Kelly', 'role': 'Student'},\n",
    "  {'name': 'Alex', 'role': 'Student'},\n",
    "  {'name': 'Lia', 'role': 'Student'}]`\n",
    "    "
   ]
  },
  {
   "cell_type": "code",
   "execution_count": null,
   "metadata": {},
   "outputs": [],
   "source": [
    "users = [\n",
    "    {'name': 'Kelly', 'role': 'Student'},\n",
    "    {'name': 'Alex', 'role': 'Student'},\n",
    "    {'name': 'Lia', 'role': 'Student'},\n",
    "    {'name': 'Luna', 'role': 'Teacher'}\n",
    "]"
   ]
  },
  {
   "cell_type": "code",
   "execution_count": null,
   "metadata": {},
   "outputs": [],
   "source": []
  },
  {
   "cell_type": "code",
   "execution_count": null,
   "metadata": {},
   "outputs": [],
   "source": []
  },
  {
   "cell_type": "markdown",
   "metadata": {},
   "source": [
    "> Consider the list called `names` below. \n",
    "\n",
    "> **Return a list of full names based on the dictionaries in the list.**\n",
    "\n",
    "> Expected Output:\n",
    "\n",
    "> `['Grace Hopper', 'Radia Perlman', 'Ada Lovelace']`"
   ]
  },
  {
   "cell_type": "code",
   "execution_count": null,
   "metadata": {},
   "outputs": [],
   "source": [
    "names = [\n",
    "    {'first_name': 'Grace', 'last_name': 'Hopper'},\n",
    "    {'first_name': 'Radia', 'last_name': 'Perlman'},\n",
    "    {'first_name': 'Ada', 'last_name': 'Lovelace'}\n",
    "]"
   ]
  },
  {
   "cell_type": "code",
   "execution_count": null,
   "metadata": {},
   "outputs": [],
   "source": []
  },
  {
   "cell_type": "code",
   "execution_count": null,
   "metadata": {},
   "outputs": [],
   "source": []
  },
  {
   "cell_type": "markdown",
   "metadata": {},
   "source": [
    "---\n",
    "\n",
    "# Independent Practice: Dictionaries and Data!\n",
    "\n",
    "---\n",
    "\n",
    "\n",
    "## LYFT Intra-day JSON Exploration\n",
    "\n",
    "> Make sure that this `.json` file is in the same folder as this jupyter notebook.\n",
    "\n",
    "---\n",
    "\n",
    "#### If you are curious...\n",
    "\n",
    "This data was retrieved using AlphaVantage's intra-day stock API.\n",
    "\n",
    "MSFT Demo: https://www.alphavantage.co/query?function=TIME_SERIES_INTRADAY&symbol=MSFT&interval=5min&outputsize=full&apikey=demo\n",
    "\n",
    "Query used for LYFT data (note: you must enter an apikey (https://www.alphavantage.co/support/#api-key) at the very end for it work): https://www.alphavantage.co/query?function=TIME_SERIES_INTRADAY&symbol=LYFT&interval=5min&outputsize=full&apikey="
   ]
  },
  {
   "cell_type": "code",
   "execution_count": null,
   "metadata": {},
   "outputs": [],
   "source": [
    "# Run this cell in order to import a library that we need to read in the `.json` file\n",
    "\n",
    "import json"
   ]
  },
  {
   "cell_type": "code",
   "execution_count": null,
   "metadata": {},
   "outputs": [],
   "source": [
    "# Open the JSON text file for reading ('r')\n",
    "#   This file contains a bunch of dictionaries.\n",
    "#   Here, we convert it from JavaScript to a Python object\n",
    "\n",
    "data = json.load(open('lyft_040219_cleaned.json', 'r'))"
   ]
  },
  {
   "cell_type": "code",
   "execution_count": null,
   "metadata": {
    "scrolled": true
   },
   "outputs": [],
   "source": [
    "data"
   ]
  },
  {
   "cell_type": "markdown",
   "metadata": {},
   "source": [
    "---\n",
    "### About the Data:\n",
    "\n",
    "- LYFT intra-day price data from AlphaVantage\n",
    "- Five-minute interval, starting at '2019-03-29 11:50:00'\n",
    "\n",
    "---\n",
    "> **Q1) Access the value associated with the key `'meta_data'`.**"
   ]
  },
  {
   "cell_type": "code",
   "execution_count": null,
   "metadata": {},
   "outputs": [],
   "source": []
  },
  {
   "cell_type": "code",
   "execution_count": null,
   "metadata": {},
   "outputs": [],
   "source": []
  },
  {
   "cell_type": "markdown",
   "metadata": {},
   "source": [
    "> **Q2) How many price data points are there?**"
   ]
  },
  {
   "cell_type": "code",
   "execution_count": null,
   "metadata": {},
   "outputs": [],
   "source": []
  },
  {
   "cell_type": "code",
   "execution_count": null,
   "metadata": {},
   "outputs": [],
   "source": []
  },
  {
   "cell_type": "markdown",
   "metadata": {},
   "source": [
    "> **Q3) Print all the data for the most recent price datapoint (i.e., close, high, low, open, volume).** "
   ]
  },
  {
   "cell_type": "code",
   "execution_count": null,
   "metadata": {},
   "outputs": [],
   "source": []
  },
  {
   "cell_type": "markdown",
   "metadata": {},
   "source": [
    "> **Q4) Create a new list called `closing_prices`. And then:** \n",
    "\n",
    "> - Convert each close price to a float.\n",
    "\n",
    "> - Add each converted close price to that list `closing_prices`.\n",
    "\n",
    "> - Print the first 50 prices in `closing_prices`.\n",
    "\n",
    "> - Get the average of the close prices."
   ]
  },
  {
   "cell_type": "code",
   "execution_count": null,
   "metadata": {},
   "outputs": [],
   "source": []
  },
  {
   "cell_type": "code",
   "execution_count": null,
   "metadata": {},
   "outputs": [],
   "source": []
  },
  {
   "cell_type": "markdown",
   "metadata": {},
   "source": [
    "---\n",
    "# Functions\n",
    "\n",
    "---\n",
    "\n",
    "### Introduction to user-defined functions\n",
    "\n",
    "In this lesson, we'll learn to write functions, which are named blocks of code that are _designed to do one specific job_.\n",
    "\n",
    "---\n",
    "\n",
    "**Here’s a simple function named `greet_user()` that prints a greeting:**\n"
   ]
  },
  {
   "cell_type": "code",
   "execution_count": null,
   "metadata": {},
   "outputs": [],
   "source": [
    "def greet_user():\n",
    "    \"\"\"Display a simple greeting.\"\"\"\n",
    "    print(\"Hello!\")"
   ]
  },
  {
   "cell_type": "markdown",
   "metadata": {},
   "source": [
    "__Why didn't anything print?__"
   ]
  },
  {
   "cell_type": "code",
   "execution_count": null,
   "metadata": {},
   "outputs": [],
   "source": []
  },
  {
   "cell_type": "markdown",
   "metadata": {},
   "source": [
    "** **\n",
    "_Notes on syntax:_\n",
    "\n",
    "- The keyword `def` informs Python that you are defining a function.\n",
    "- This is the function definition, which tells Python: \n",
    "    - the name of the function \n",
    "    - and, if applicaable, what kind of information the function needs to do its job.\n",
    "- Any indented lines that follow `def greet_user():` make up the body of the function.\n",
    "\n",
    "\n",
    "__Now let's use that function!__\n",
    "\n",
    "___\n",
    "\n",
    "### Calling a function:"
   ]
  },
  {
   "cell_type": "code",
   "execution_count": null,
   "metadata": {},
   "outputs": [],
   "source": [
    "greet_user()"
   ]
  },
  {
   "cell_type": "markdown",
   "metadata": {},
   "source": [
    "#### When you want to use this function, you call it.\n",
    "\n",
    "A function call tells Python to execute the code in the function.\n",
    "\n",
    "- To call a function, you write the name of the function, followed by any necessary information in parentheses.\n",
    "\n",
    "Because no information is needed in the example above, calling our function is as simple as entering `greet_user()`.\n",
    "\n",
    "---\n",
    "\n",
    "---\n",
    "\n",
    "What about this line of code:\n",
    "> `\"\"\"Display a simple greeting.\"\"\"`\n",
    "\n",
    "This is a comment called a __docstring__, which describes what the function does.\n",
    "- Docstrings are enclosed in triple quotes, which Python looks for when it generates documentation for the functions in your programs.\n",
    "\n",
    "__Use the `help()` function to generate the docstrings in the function.__"
   ]
  },
  {
   "cell_type": "code",
   "execution_count": null,
   "metadata": {},
   "outputs": [],
   "source": [
    "help(greet_user)\n",
    "\n",
    "\n",
    "# You can try the `help()` function with any built-in function, like `range()`.\n",
    "# help(range)"
   ]
  },
  {
   "cell_type": "markdown",
   "metadata": {},
   "source": [
    "***\n",
    "\n",
    "## Passing information to a function\n",
    "\n",
    "#### What's going on in the function below?\n",
    "- What is the main difference from the previous version of this function?\n",
    "\n",
    "** **\n"
   ]
  },
  {
   "cell_type": "code",
   "execution_count": null,
   "metadata": {},
   "outputs": [],
   "source": [
    "def greet_user(username):\n",
    "    \"\"\"Display a simple greeting.\"\"\"\n",
    "    print(\"Hello, \" + username.title() + \"!\")\n",
    "\n",
    "\n",
    "greet_user('jesse')"
   ]
  },
  {
   "cell_type": "markdown",
   "metadata": {},
   "source": [
    "___\n",
    "### Arguments and Parameters\n",
    "\n",
    "1) We defined `greet_user()` to __require__ a value for the variable `username`.\n",
    "\n",
    "2) Once we called the function and gave it the information it requires (a person’s name), it printed the greeting.\n",
    "\n",
    "- The variable `username` in the definition of `greet_user()` is an example of a __parameter__, a piece of information the function needs to do its job.\n",
    "\n",
    "- The value 'jesse' in `greet_user('jesse')` is an example of an __argument__, a piece of information that is passed from a function call to a function.\n",
    "\n",
    "When we call the function, we place the value we want the function to work with in parentheses.\n",
    "\n",
    "- In this case the argument 'jesse' was passed to the function `greet_user()`, and the value was stored in the parameter `username`.\n",
    "\n",
    "> __NOTE:__\n",
    "\n",
    "> People sometimes speak of arguments and parameters interchangeably. Don’t be surprised if you see the variables in a function definition referred to as arguments or the variables in a function call referred to as parameters."
   ]
  },
  {
   "cell_type": "code",
   "execution_count": null,
   "metadata": {},
   "outputs": [],
   "source": []
  },
  {
   "cell_type": "markdown",
   "metadata": {},
   "source": [
    "___\n",
    "### Avoiding Argument Errors\n",
    "\n",
    "__Unmatched arguments__ occur when you provide _fewer or more arguments_ than a function needs to do its work. \n",
    "\n",
    "- For example, here’s what happens if we try to call `greet_user()` with no arguments:"
   ]
  },
  {
   "cell_type": "code",
   "execution_count": null,
   "metadata": {},
   "outputs": [],
   "source": [
    "greet_user()"
   ]
  },
  {
   "cell_type": "markdown",
   "metadata": {},
   "source": [
    "- And here’s what happens if we try to call `greet_user()` with 2 arguments:"
   ]
  },
  {
   "cell_type": "code",
   "execution_count": null,
   "metadata": {},
   "outputs": [],
   "source": [
    "greet_user('person1','person2')"
   ]
  },
  {
   "cell_type": "markdown",
   "metadata": {},
   "source": [
    "__Answer: Python recognizes that some information is missing from the function call.__\n",
    "\n",
    "Python is helpful in that it reads the function’s code for us and tells us the names of the arguments we need to provide in the error message.\n",
    "- This is another motivation for giving your variables and functions descriptive names.\n",
    "- If you do, Python’s error messages will be more useful to you and anyone else who might use your code.\n",
    "\n",
    "If you provide too many arguments, you should get a similar traceback that can help you correctly match your function call to the function definition."
   ]
  },
  {
   "cell_type": "code",
   "execution_count": null,
   "metadata": {},
   "outputs": [],
   "source": []
  },
  {
   "cell_type": "code",
   "execution_count": null,
   "metadata": {},
   "outputs": [],
   "source": []
  },
  {
   "cell_type": "markdown",
   "metadata": {},
   "source": [
    "---\n",
    "\n",
    "# Independent Practice: Basic Functions\n",
    "\n",
    "---\n",
    "\n",
    "> **Q1) Write a function called `high_low()` that prints \"High!\" if a variable `my_number` is greater than 10, and \"Low!\" if it isn't. Then call the function to make sure it works.**\n"
   ]
  },
  {
   "cell_type": "code",
   "execution_count": null,
   "metadata": {},
   "outputs": [],
   "source": []
  },
  {
   "cell_type": "markdown",
   "metadata": {},
   "source": [
    "> **Q2) Thanks a Latte**\n",
    "\n",
    "> Imagine that you are tasked with creating a program to calculate the total amount, including sales tax, for each item at a coffee shop.\n",
    "> - Wrtie a function called `calculate_total()`. \n",
    "> - This function should be able to take 1 parameter for the price of an item.\n",
    "> - This function should print the calculated total of any price passed to the function, which is: price + (price * sales_tax_rate)\n",
    "> - Use 0.10 for the sales_tax_rate.\n",
    "\n",
    "> Expected Output:\n",
    "\n",
    "> `The total is $ 6.05`\n",
    "\n",
    "> `The total is $ 5.225`\n"
   ]
  },
  {
   "cell_type": "code",
   "execution_count": null,
   "metadata": {},
   "outputs": [],
   "source": [
    "price_latte = 5.5\n",
    "price_americano = 4.75\n"
   ]
  },
  {
   "cell_type": "code",
   "execution_count": null,
   "metadata": {},
   "outputs": [],
   "source": []
  },
  {
   "cell_type": "markdown",
   "metadata": {},
   "source": [
    "# Functions: Multiple Parameters\n",
    "\n",
    "- Because a function definition can have multiple parameters, a function call may need multiple arguments.\n",
    "\n",
    "> You can pass arguments to your functions in a number of ways.\n",
    "\n",
    "> You can use:\n",
    "> - __positional arguments__, which need to be in the same order the parameters were written\n",
    "> - __keyword arguments__, where each argument consists of a variable name and a value\n",
    "> - __lists and dictionaries__ of values\n",
    "  \n",
    "** **\n",
    "\n",
    "Let's Review:\n",
    "\n",
    "    - Positional Arguments\n",
    "    - Keyword Arguments\n",
    "    \n",
    "---"
   ]
  },
  {
   "cell_type": "markdown",
   "metadata": {},
   "source": [
    "### Positional Arguments\n",
    "\n",
    "When you call a function, Python must match each argument in the function call with a parameter in the function definition.\n",
    "\n",
    "> The simplest way to do this is based on the __order of the arguments provided__.\n",
    "\n",
    "> Values matched up this way are called __positional arguments__.\n"
   ]
  },
  {
   "cell_type": "code",
   "execution_count": null,
   "metadata": {},
   "outputs": [],
   "source": [
    "def describe_pet(animal_type, pet_name):\n",
    "    \"\"\"Display information about a pet.\"\"\"\n",
    "    print(\"\\nI have a \" + animal_type + \".\")\n",
    "    print(\"My \" + animal_type + \"'s name is \" + pet_name.title() + \".\")"
   ]
  },
  {
   "cell_type": "markdown",
   "metadata": {},
   "source": [
    "__Notes:__\n",
    "\n",
    "- You can use _as many_ positional arguments as you need in your functions.\n",
    "- Python works through the arguments you provide when calling the function and matches each one with the corresponding parameter in the function’s definition.\n"
   ]
  },
  {
   "cell_type": "code",
   "execution_count": null,
   "metadata": {},
   "outputs": [],
   "source": [
    "describe_pet('hamster', 'harry')\n",
    "describe_pet('dog', 'willie')\n",
    "describe_pet('cat', 'felix')"
   ]
  },
  {
   "cell_type": "markdown",
   "metadata": {},
   "source": [
    "** **\n",
    "\n",
    "__What's happening in the function call below?__"
   ]
  },
  {
   "cell_type": "code",
   "execution_count": null,
   "metadata": {},
   "outputs": [],
   "source": [
    "describe_pet('harry', 'hamster')"
   ]
  },
  {
   "cell_type": "markdown",
   "metadata": {},
   "source": [
    "__Answer: Order matters in positional arguments.__\n",
    "\n",
    "You can get unexpected results if you mix up the order of the arguments in a function call when using positional arguments.\n",
    "\n",
    "- In this function call, we list the name first and the type of animal second.\n",
    "- Because the argument 'harry' is listed first this time, that value is stored in the parameter `animal_type`.\n",
    "- Likewise, 'hamster' is stored in `pet_name`."
   ]
  },
  {
   "cell_type": "code",
   "execution_count": null,
   "metadata": {},
   "outputs": [],
   "source": []
  },
  {
   "cell_type": "markdown",
   "metadata": {},
   "source": [
    "** **\n",
    "### Keyword Arguments\n",
    " \n",
    "A keyword argument is a __name-value pair__ that you pass to a function.\n",
    "\n",
    "_Advantages of keyword arguments:_\n",
    "- You directly associate the name and the value within the argument, so when you pass the argument to the function, there’s no confusion (you won’t end up with a harry named Hamster).\n",
    "\n",
    "- Keyword arguments free you from having to worry about correctly ordering your arguments in the function call, and they clarify the role of each value in the function call."
   ]
  },
  {
   "cell_type": "code",
   "execution_count": null,
   "metadata": {},
   "outputs": [],
   "source": [
    "def describe_pet(animal_type, pet_name):\n",
    "    \"\"\"Display information about a pet.\"\"\"\n",
    "    print(\"\\nI have a \" + animal_type + \".\")\n",
    "    print(\"My \" + animal_type + \"'s name is \" + pet_name.title() + \".\")"
   ]
  },
  {
   "cell_type": "markdown",
   "metadata": {},
   "source": [
    "> __NOTE:__ The function `describe_pet()` hasn’t changed.\n"
   ]
  },
  {
   "cell_type": "code",
   "execution_count": null,
   "metadata": {},
   "outputs": [],
   "source": [
    "describe_pet(pet_name='harry', animal_type='hamster')"
   ]
  },
  {
   "cell_type": "markdown",
   "metadata": {},
   "source": [
    "- But now when we call the function, we __explicitly__ tell Python which parameter each argument should be matched with.\n",
    "- When Python reads the function call, it knows to store the argument 'hamster' in the parameter `animal_type` and the argument 'harry' in `pet_name`.\n",
    "    - The output correctly shows that we have a hamster named Harry.\n",
    "\n",
    "#### The order of keyword arguments doesn’t matter because Python knows where each value should go.\n",
    "\n",
    "The following two function calls are equivalent:"
   ]
  },
  {
   "cell_type": "code",
   "execution_count": null,
   "metadata": {},
   "outputs": [],
   "source": [
    "describe_pet(animal_type='hamster', pet_name='harry')"
   ]
  },
  {
   "cell_type": "code",
   "execution_count": null,
   "metadata": {},
   "outputs": [],
   "source": [
    "describe_pet(pet_name='harry', animal_type='hamster')"
   ]
  },
  {
   "cell_type": "markdown",
   "metadata": {},
   "source": [
    "> __NOTE:__\n",
    "\n",
    "> - When you use keyword arguments, be sure to use the _exact_ names of the parameters in the function’s definition."
   ]
  },
  {
   "cell_type": "code",
   "execution_count": null,
   "metadata": {},
   "outputs": [],
   "source": []
  },
  {
   "cell_type": "markdown",
   "metadata": {},
   "source": [
    "---\n",
    "\n",
    "# Independent Practice: Multiple Parameters\n",
    "\n",
    "---\n",
    "\n",
    "> **Q1) Let's revisit the previous independent practice exercise, 'Thanks a Latte'.**\n",
    "\n",
    "> What about changing sales tax? We can pass as many values into the function as we want, and we can have as many parameters as we want. \n",
    "\n",
    "> So go ahead and rewrite your previous `calculate_total()` function to allow for a second parameter — `taxes`."
   ]
  },
  {
   "cell_type": "code",
   "execution_count": null,
   "metadata": {},
   "outputs": [],
   "source": []
  },
  {
   "cell_type": "code",
   "execution_count": null,
   "metadata": {},
   "outputs": [],
   "source": []
  },
  {
   "cell_type": "markdown",
   "metadata": {},
   "source": [
    "> **Q2) Functions With Logic**\n",
    "\n",
    "> Let's consider a shipping example. Depending on the order amount, a customer might get free shipping, so the print statement is different depending on the order amount.\n",
    "> Use the starter code below, which works for one product. Can you build a function from it that works for any product and `order_amount`?\n",
    "\n",
    "> Free shipping for any orders greater than $30. \n",
    "\n",
    "> Otherwise there is a $5.00 shipping charge."
   ]
  },
  {
   "cell_type": "code",
   "execution_count": null,
   "metadata": {},
   "outputs": [],
   "source": [
    "product = \"Hanging Planter\"\n",
    "order_amount = 35\n",
    "\n",
    "# Starter Code\n",
    "\n",
    "print(\"Thank you for ordering the Hanging Planter.\")\n",
    "if order_amount >= 30:\n",
    "    print(\"It's your lucky day! There is no shipping charge for orders over $30.00.\")\n",
    "else:\n",
    "    print(\"There will be a $5.00 shipping charge for this order.\")\n",
    "\n"
   ]
  },
  {
   "cell_type": "code",
   "execution_count": null,
   "metadata": {},
   "outputs": [],
   "source": []
  },
  {
   "cell_type": "markdown",
   "metadata": {},
   "source": [
    "---\n",
    "# GUIDED WALKTHROUGH: Return Statement\n",
    "\n",
    "---\n",
    "\n",
    "A function doesn’t always have to display its output directly.\n",
    "\n",
    "- In fact, some would argue that printing in a function should really only be used for debugging or learning.\n",
    "\n",
    "> Instead, it can process some data and then __return__ a value or set of values.\n",
    "\n",
    "> The value the function returns is called a ___return value___.\n",
    "\n",
    "\n",
    "The `return` statement takes a value from inside a function and sends it back to the line that called the function.\n",
    "\n",
    "Return values allow you to move much of your program’s grunt work into functions, which can simplify the body of your program.\n",
    "  \n",
    "** **\n",
    "\n",
    "Topics to review:\n",
    "\n",
    "- Returning a Simple Value\n"
   ]
  },
  {
   "cell_type": "code",
   "execution_count": null,
   "metadata": {},
   "outputs": [],
   "source": []
  },
  {
   "cell_type": "markdown",
   "metadata": {},
   "source": [
    "** **\n",
    "### Returning a Simple Value\n",
    "\n",
    "> Let’s look at a function that takes a first and last name, and creates a neatly formatted full name:"
   ]
  },
  {
   "cell_type": "code",
   "execution_count": null,
   "metadata": {},
   "outputs": [],
   "source": [
    "def get_formatted_name(first_name, last_name):\n",
    "    \"\"\"Return a full name, neatly formatted.\"\"\"\n",
    "    full_name = first_name + ' ' + last_name"
   ]
  },
  {
   "cell_type": "code",
   "execution_count": null,
   "metadata": {},
   "outputs": [],
   "source": [
    "musician = get_formatted_name('regina', 'spektor')\n",
    "print(musician)"
   ]
  },
  {
   "cell_type": "markdown",
   "metadata": {},
   "source": [
    "> Now let's at a function that takes a first and last name, and ***returns*** a neatly formatted full name:"
   ]
  },
  {
   "cell_type": "code",
   "execution_count": null,
   "metadata": {},
   "outputs": [],
   "source": [
    "def get_formatted_name(first_name, last_name):\n",
    "    \"\"\"Return a full name, neatly formatted.\"\"\"\n",
    "    full_name = first_name + ' ' + last_name\n",
    "    return full_name.title()"
   ]
  },
  {
   "cell_type": "code",
   "execution_count": null,
   "metadata": {},
   "outputs": [],
   "source": [
    "musician = get_formatted_name('regina', 'spektor')\n",
    "print(musician)"
   ]
  },
  {
   "cell_type": "markdown",
   "metadata": {},
   "source": [
    "> What is the `return` statement doing?"
   ]
  },
  {
   "cell_type": "markdown",
   "metadata": {},
   "source": [
    "---\n",
    "### Let's break down the execution of the function step-by-step:\n",
    "\n",
    "\n",
    "1) The definition of `get_formatted_name()` takes as parameters a first and last name.\n",
    "___\n",
    "\n",
    "2) The function combines these two names, adds a space between them, and stores the result in `full_name`.\n",
    "___\n",
    "\n",
    "3) The value of `full_name` is converted to title case, and then returned to the calling line.\n",
    "\n",
    "> __NOTE:__\n",
    "\n",
    "> When you call a function that returns a value, you need to provide a variable where the return value can be stored.\n",
    "\n",
    "> In this case, the returned value is stored in the variable `musician`. \n",
    "\n",
    "___\n",
    "4) The output shows a neatly formatted name made up of the parts of a person’s name.\n",
    "\n",
    "___\n",
    "\n",
    "\n",
    "_Now, this might seem like a lot of work to get a neatly formatted name when we could have just written:_"
   ]
  },
  {
   "cell_type": "code",
   "execution_count": null,
   "metadata": {},
   "outputs": [],
   "source": [
    "print(\"Regina Spektor\")"
   ]
  },
  {
   "cell_type": "markdown",
   "metadata": {},
   "source": [
    "__But when you consider working with a large program that needs to store many first and last names separately, functions like `get_formatted_name()` become very useful.__ \n",
    "\n",
    "You store first and last names separately and then call this function whenever you want to display a full name."
   ]
  },
  {
   "cell_type": "code",
   "execution_count": null,
   "metadata": {},
   "outputs": [],
   "source": []
  },
  {
   "cell_type": "markdown",
   "metadata": {},
   "source": [
    "> Define a function called `add_two()` that takes a parameter `number`.\n",
    "\n",
    "> It adds 2 to `number`, saving that in a new variable called `total`.\n",
    "\n",
    "> In the function definition, include code that **prints** the total and **then, returns** total.\n",
    "\n"
   ]
  },
  {
   "cell_type": "code",
   "execution_count": null,
   "metadata": {},
   "outputs": [],
   "source": []
  },
  {
   "cell_type": "markdown",
   "metadata": {},
   "source": [
    "> The return statement **exits a function**, not executing any further code in it. \n",
    "\n",
    "> **What do you think the following will print?**"
   ]
  },
  {
   "cell_type": "code",
   "execution_count": null,
   "metadata": {},
   "outputs": [],
   "source": [
    "def mystery():\n",
    "    return 6\n",
    "    return 5\n",
    "\n",
    "my_number = mystery()\n",
    "print(my_number)\n"
   ]
  },
  {
   "cell_type": "markdown",
   "metadata": {},
   "source": [
    "> **And how about now? What do you think will print out?**\n"
   ]
  },
  {
   "cell_type": "code",
   "execution_count": null,
   "metadata": {},
   "outputs": [],
   "source": [
    "def add_bonus_points(score):\n",
    "    if score > 50:\n",
    "        return score + 10\n",
    "    score += 20\n",
    "    return score\n",
    "\n",
    "total_points = add_bonus_points(55)\n",
    "print(total_points)\n"
   ]
  },
  {
   "cell_type": "markdown",
   "metadata": {},
   "source": [
    "> The code that's below the return statement will never be executed and will be ignored completely.\n",
    "\n",
    "> The function stopped executing at the first return statement it hit.\n",
    "\n",
    "> Because the score in this case is greater than 50, we will hit the return statement return score + 10, and the function stops running.\n"
   ]
  },
  {
   "cell_type": "markdown",
   "metadata": {},
   "source": [
    "---\n",
    "## Exiting a Function\n",
    "\n",
    "We can also use return by itself as a way to exit the function and prevent any code that follows from running."
   ]
  },
  {
   "cell_type": "code",
   "execution_count": null,
   "metadata": {},
   "outputs": [],
   "source": [
    "def rock_and_roll(muted):\n",
    "    song = \"It's only Rock 'N' Roll\"\n",
    "    artist = \"Rolling Stones\"\n",
    "\n",
    "    if (muted == True):\n",
    "        return\n",
    "        # Here, we use return as a way to exit a function\n",
    "        # We don't actually return any value.\n",
    "    print(\"Now playing: \", song, \" by \", artist)\n",
    "\n",
    "rock_and_roll(True)"
   ]
  },
  {
   "cell_type": "markdown",
   "metadata": {},
   "source": [
    "> Here, we use return as a way to exit the function instead of returning any value. \n",
    "\n",
    "> When we call the function and pass in `True` as an argument for muted, this statement will **never** run: \n",
    "\n",
    "> `print \"Now playing: \", song, \" by \", artist.\"`\n",
    "\n",
    "> **Try changing true to false.**\n"
   ]
  },
  {
   "cell_type": "code",
   "execution_count": null,
   "metadata": {},
   "outputs": [],
   "source": []
  },
  {
   "cell_type": "markdown",
   "metadata": {},
   "source": [
    "> **Quick Knowledge Check**\n",
    "\n",
    "> Looking at the code below, where will the function stop if x is 10?\n"
   ]
  },
  {
   "cell_type": "code",
   "execution_count": null,
   "metadata": {},
   "outputs": [],
   "source": [
    "def categorize(x):\n",
    "    if (x < 8):\n",
    "        return 8\n",
    "    x += 3\n",
    "    if (x < 15):\n",
    "        return x\n",
    "    return 100\n"
   ]
  },
  {
   "cell_type": "code",
   "execution_count": null,
   "metadata": {},
   "outputs": [],
   "source": []
  },
  {
   "cell_type": "code",
   "execution_count": null,
   "metadata": {},
   "outputs": [],
   "source": [
    "categorize(10)"
   ]
  },
  {
   "cell_type": "markdown",
   "metadata": {},
   "source": [
    "> **Another Knowledge Check**\n",
    "\n",
    "> Take this simple adder function:"
   ]
  },
  {
   "cell_type": "code",
   "execution_count": null,
   "metadata": {},
   "outputs": [],
   "source": [
    "def adder(number1, number2):\n",
    "    return number1 + number2"
   ]
  },
  {
   "cell_type": "markdown",
   "metadata": {},
   "source": [
    "> Which of the following statements will result in an error?\n",
    "\n",
    "> A. adder(10, 100.) \n",
    "\n",
    "> B. adder(10, '10') \n",
    "\n",
    "> C. adder(100) \n",
    "\n",
    "> D. adder('abc', 'def') \n",
    "\n",
    "> E. adder(10, 20, 30) "
   ]
  },
  {
   "cell_type": "code",
   "execution_count": null,
   "metadata": {},
   "outputs": [],
   "source": [
    "print(adder(10, 100.))"
   ]
  },
  {
   "cell_type": "code",
   "execution_count": null,
   "metadata": {},
   "outputs": [],
   "source": [
    "print(adder(10, '10'))\n"
   ]
  },
  {
   "cell_type": "code",
   "execution_count": null,
   "metadata": {},
   "outputs": [],
   "source": [
    "print(adder(100))\n"
   ]
  },
  {
   "cell_type": "code",
   "execution_count": null,
   "metadata": {},
   "outputs": [],
   "source": [
    "print(adder('abc', 'def'))\n"
   ]
  },
  {
   "cell_type": "code",
   "execution_count": null,
   "metadata": {},
   "outputs": [],
   "source": [
    "print(adder(10, 20, 30))"
   ]
  },
  {
   "cell_type": "code",
   "execution_count": null,
   "metadata": {},
   "outputs": [],
   "source": []
  },
  {
   "cell_type": "code",
   "execution_count": null,
   "metadata": {},
   "outputs": [],
   "source": []
  },
  {
   "cell_type": "code",
   "execution_count": null,
   "metadata": {},
   "outputs": [],
   "source": []
  },
  {
   "cell_type": "markdown",
   "metadata": {},
   "source": [
    "---\n",
    "\n",
    "# Independent Practice: Return Statements\n",
    "\n",
    "---\n",
    "\n",
    "> **Q1) Sum all positives**\n",
    "\n",
    "> Create a function that accepts an array of numbers.\n",
    "\n",
    "> This function should return a sum of all positive numbers.\n"
   ]
  },
  {
   "cell_type": "code",
   "execution_count": null,
   "metadata": {},
   "outputs": [],
   "source": [
    "test_list_1 = [1, -2, -3, 1]\n",
    "test_list_2 = [-1]\n",
    "\n"
   ]
  },
  {
   "cell_type": "code",
   "execution_count": null,
   "metadata": {},
   "outputs": [],
   "source": []
  },
  {
   "cell_type": "markdown",
   "metadata": {},
   "source": [
    "> **Q2) Let's generate some fake data for our next exercise.** \n",
    "\n",
    "> We are generating monthly sales for each department in a store, for the year 2044."
   ]
  },
  {
   "cell_type": "code",
   "execution_count": null,
   "metadata": {},
   "outputs": [],
   "source": [
    "import random\n",
    "\n",
    "dept_store_sales = [\n",
    "    {'dept_name':'Food', '2044_monthly_sales': []},\n",
    "    {'dept_name':'Kids', '2044_monthly_sales': []},\n",
    "    {'dept_name':'Women', '2044_monthly_sales': []},\n",
    "    {'dept_name':'Men', '2044_monthly_sales': []}\n",
    "]\n",
    "\n",
    "for dept in dept_store_sales:\n",
    "    dept['2044_monthly_sales'] = random.sample(range(10000, 50000), 12)\n"
   ]
  },
  {
   "cell_type": "code",
   "execution_count": null,
   "metadata": {},
   "outputs": [],
   "source": [
    "dept_store_sales[0]"
   ]
  },
  {
   "cell_type": "markdown",
   "metadata": {},
   "source": [
    "> **Q2A) Loop through all the monthly sales for all departments, adding each amount to the `total_2044_sales` variable defined below.**"
   ]
  },
  {
   "cell_type": "code",
   "execution_count": null,
   "metadata": {},
   "outputs": [],
   "source": [
    "total_2044_sales = 0\n",
    "  "
   ]
  },
  {
   "cell_type": "code",
   "execution_count": null,
   "metadata": {},
   "outputs": [],
   "source": []
  },
  {
   "cell_type": "code",
   "execution_count": null,
   "metadata": {},
   "outputs": [],
   "source": []
  },
  {
   "cell_type": "markdown",
   "metadata": {},
   "source": [
    "> **Q2B) Write a function that calculates and returns the percent of total sales (for 2044) for each department.**\n",
    "\n",
    "> Then use your function on the simulated data in `dept_store_sales`."
   ]
  },
  {
   "cell_type": "code",
   "execution_count": null,
   "metadata": {},
   "outputs": [],
   "source": []
  },
  {
   "cell_type": "code",
   "execution_count": null,
   "metadata": {},
   "outputs": [],
   "source": []
  },
  {
   "cell_type": "markdown",
   "metadata": {},
   "source": [
    "> **Q3) Building a Copy**\n",
    "\n",
    "> Write a function called `copy_list()` that takes in a list, `original_list`, as a parameter. \n",
    "\n",
    "> Your function should create a new list, `my_new_list`, with the contents of the original list + 2 each. \n",
    "\n",
    "> Your function should return `my_new_list`.\n"
   ]
  },
  {
   "cell_type": "code",
   "execution_count": null,
   "metadata": {},
   "outputs": [],
   "source": []
  },
  {
   "cell_type": "code",
   "execution_count": null,
   "metadata": {},
   "outputs": [],
   "source": []
  }
 ],
 "metadata": {
  "kernelspec": {
   "display_name": "Python 3",
   "language": "python",
   "name": "python3"
  },
  "language_info": {
   "codemirror_mode": {
    "name": "ipython",
    "version": 3
   },
   "file_extension": ".py",
   "mimetype": "text/x-python",
   "name": "python",
   "nbconvert_exporter": "python",
   "pygments_lexer": "ipython3",
   "version": "3.6.8"
  }
 },
 "nbformat": 4,
 "nbformat_minor": 2
}
