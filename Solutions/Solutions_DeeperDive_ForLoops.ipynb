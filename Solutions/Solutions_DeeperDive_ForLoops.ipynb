{
 "cells": [
  {
   "cell_type": "markdown",
   "metadata": {},
   "source": [
    "# Deeper Dive: `for` Loops"
   ]
  },
  {
   "cell_type": "markdown",
   "metadata": {},
   "source": [
    "Learning Objectives\n",
    "\n",
    "- Styling your code\n",
    "- For loop\n",
    "\n",
    "***"
   ]
  },
  {
   "cell_type": "markdown",
   "metadata": {},
   "source": [
    "# 1) Styling your code\n",
    "\n",
    "In any language, style matters. The reason for that: **code readability is the highest priority.**\n",
    "\n",
    "> Given the choice between writing code that’s easier to write or code that’s easier to read, Python programmers will almost always encourage you to write code that’s easier to read.\n",
    "\n",
    "***\n",
    "\n",
    "### ENTER: The Style Guide -- PEP 8\n",
    "\n",
    "- Look through the original PEP 8 style guide at:\n",
    "    - https://python.org/dev/peps/pep-0008/\n",
    "    - You won’t use much of it now, but it might be interesting to skim through it.\n",
    "    - I will make sure to emphasize the guidelines that are relevant to the lessons of the day.\n",
    "\n",
    "\n",
    "- Another helpful resource for PEP 8 styling guidelines:\n",
    "    - https://www.datacamp.com/community/tutorials/pep8-tutorial-python-code\n",
    "***"
   ]
  },
  {
   "cell_type": "markdown",
   "metadata": {},
   "source": [
    "\n",
    "> ##### Whitespace -- Indentation\n",
    "\n",
    "> https://www.python.org/dev/peps/pep-0008/#indentation\n",
    "***\n",
    "\n",
    "\n",
    "\n",
    "> - Use 4 spaces per indentation level."
   ]
  },
  {
   "cell_type": "code",
   "execution_count": 3,
   "metadata": {},
   "outputs": [],
   "source": [
    "some_conditional = []\n",
    "\n",
    "if some_conditional:\n",
    "    print()"
   ]
  },
  {
   "cell_type": "markdown",
   "metadata": {},
   "source": [
    "> - Discuss error below:"
   ]
  },
  {
   "cell_type": "code",
   "execution_count": 4,
   "metadata": {
    "scrolled": true
   },
   "outputs": [
    {
     "ename": "IndentationError",
     "evalue": "unexpected indent (<ipython-input-4-ef2652eff047>, line 2)",
     "output_type": "error",
     "traceback": [
      "\u001b[0;36m  File \u001b[0;32m\"<ipython-input-4-ef2652eff047>\"\u001b[0;36m, line \u001b[0;32m2\u001b[0m\n\u001b[0;31m    print(message)\u001b[0m\n\u001b[0m    ^\u001b[0m\n\u001b[0;31mIndentationError\u001b[0m\u001b[0;31m:\u001b[0m unexpected indent\n"
     ]
    }
   ],
   "source": [
    "message = \"Hello Python World!\"\n",
    "    print(message)\n"
   ]
  },
  {
   "cell_type": "markdown",
   "metadata": {},
   "source": [
    "- Discuss error below:"
   ]
  },
  {
   "cell_type": "code",
   "execution_count": 5,
   "metadata": {},
   "outputs": [
    {
     "ename": "IndentationError",
     "evalue": "expected an indented block (<ipython-input-5-3c5788b8b150>, line 4)",
     "output_type": "error",
     "traceback": [
      "\u001b[0;36m  File \u001b[0;32m\"<ipython-input-5-3c5788b8b150>\"\u001b[0;36m, line \u001b[0;32m4\u001b[0m\n\u001b[0;31m    print()\u001b[0m\n\u001b[0m        ^\u001b[0m\n\u001b[0;31mIndentationError\u001b[0m\u001b[0;31m:\u001b[0m expected an indented block\n"
     ]
    }
   ],
   "source": [
    "some_conditional = []\n",
    "\n",
    "if some_conditional:\n",
    "print()"
   ]
  },
  {
   "cell_type": "markdown",
   "metadata": {},
   "source": [
    "###### Notes from source documentation:\n",
    "\n",
    "> The closing brace/bracket/parenthesis on multiline constructs may either:\n",
    "- line up under the first non-whitespace character of the last line of list, as in:\n"
   ]
  },
  {
   "cell_type": "code",
   "execution_count": null,
   "metadata": {
    "collapsed": true
   },
   "outputs": [],
   "source": [
    "my_list = [\n",
    "    1, 2, 3,\n",
    "    4, 5, 6,\n",
    "    ]\n",
    "\n",
    "# Also as in:\n",
    "\n",
    "# result = some_function_that_takes_arguments(\n",
    "#     'a', 'b', 'c',\n",
    "#     'd', 'e', 'f',\n",
    "#     )\n"
   ]
  },
  {
   "cell_type": "markdown",
   "metadata": {},
   "source": [
    "> or it may be:\n",
    "- lined up under the first character of the line that starts the multiline construct, as in:\n"
   ]
  },
  {
   "cell_type": "code",
   "execution_count": 12,
   "metadata": {},
   "outputs": [],
   "source": [
    "my_list = [\n",
    "    1, 2, 3,\n",
    "    4, 5, 6,\n",
    "]\n",
    "\n",
    "# # Also as in:\n",
    "\n",
    "# result = some_function_that_takes_arguments(\n",
    "#     'a', 'b', 'c',\n",
    "#     'd', 'e', 'f',\n",
    "# )"
   ]
  },
  {
   "cell_type": "markdown",
   "metadata": {
    "collapsed": true
   },
   "source": [
    "***\n",
    "> ##### Whitespace -- Blank Lines (newlines)\n",
    "\n",
    "> https://www.python.org/dev/peps/pep-0008/#blank-lines\n",
    "\n",
    "- Blank lines (aka newlines) won’t affect how your code runs, but they will affect the readability of your code. \n",
    "- The Python interpreter uses horizontal indentation to interpret the meaning of your code, but it disregards vertical spacing.\n",
    "- To group parts of your program visually, use blank lines. \n",
    "\n",
    "*You should use blank lines to organize your files, but don’t do so excessively. *\n",
    "- For example, if you have five lines of code that build a list, and then another three lines that do something with that list, it’s appropriate to place a blank line between the two sections.\n",
    "- However, you should not place three or four blank lines between the two sections.\n",
    "\n",
    "\n",
    "\n",
    "***\n",
    "> ##### Line Length -- Word Wrap\n",
    "\n",
    "> https://www.python.org/dev/peps/pep-0008/#maximum-line-length\n",
    "- **Best practice:** \n",
    "    - *Avoid* using word wrap!\n",
    "    - Use visual ruler instead\n",
    "\n",
    "\n",
    "***\n",
    "> ##### Other Style Guidelines -- See official docs linked below\n",
    "\n",
    "> - https://www.python.org/dev/peps/pep-0008/#code-lay-out\n",
    "> - https://www.python.org/dev/peps/pep-0008/#whitespace-in-expressions-and-statements\n",
    "> - https://www.python.org/dev/peps/pep-0008/#other-recommendations\n",
    "> - https://www.python.org/dev/peps/pep-0008/#comments\n",
    "> - https://www.python.org/dev/peps/pep-0008/#naming-conventions\n",
    "\n",
    "\n",
    "***"
   ]
  },
  {
   "cell_type": "markdown",
   "metadata": {},
   "source": [
    "***\n",
    "# 2) Looping through an entire list using a for loop\n",
    "\n",
    "##### A for loop translated to 'human English':\n",
    "> for each item in list,\n",
    "\n",
    "> assign that item to a variable,\n",
    "\n",
    "> and do something to that variable (method) or with that variable (function)"
   ]
  },
  {
   "cell_type": "code",
   "execution_count": 7,
   "metadata": {},
   "outputs": [
    {
     "name": "stdout",
     "output_type": "stream",
     "text": [
      "dog\n",
      "cat\n",
      "fish\n"
     ]
    }
   ],
   "source": [
    "# Translate the for loop below to human-English.\n",
    "\n",
    "animals = ['dog', 'cat', 'fish']\n",
    "\n",
    "for pet in animals:\n",
    "    print(pet)"
   ]
  },
  {
   "cell_type": "markdown",
   "metadata": {
    "collapsed": true
   },
   "source": [
    "\n",
    "\n",
    "\n",
    "\n",
    "\n",
    "\n",
    "##### Translation:\n",
    "> for each item in the list called `animals`,\n",
    "\n",
    "> call that item `pet`\n",
    "\n",
    "> and do something using `pet` (in this case: print the value of `pet`)\n"
   ]
  },
  {
   "cell_type": "markdown",
   "metadata": {},
   "source": [
    "##### What is happening when I run the code below?\n"
   ]
  },
  {
   "cell_type": "code",
   "execution_count": 8,
   "metadata": {},
   "outputs": [
    {
     "name": "stdout",
     "output_type": "stream",
     "text": [
      "fish\n"
     ]
    }
   ],
   "source": [
    "print(pet)"
   ]
  },
  {
   "cell_type": "markdown",
   "metadata": {},
   "source": [
    "**Answer:** Even though we never created a variable `pet`, it was created during the for loop.\n",
    "\n",
    "**TAKEAWAY:** BE CAREFUL that you don't assume that it's unassigned!\n",
    "\n",
    "The solution is to wrap our for loop in a function, which we'll learn about later.\n",
    "\n",
    "Below is an example to show what I mean:"
   ]
  },
  {
   "cell_type": "code",
   "execution_count": 1,
   "metadata": {},
   "outputs": [
    {
     "ename": "NameError",
     "evalue": "name 'pet' is not defined",
     "output_type": "error",
     "traceback": [
      "\u001b[0;31m---------------------------------------------------------------------------\u001b[0m",
      "\u001b[0;31mNameError\u001b[0m                                 Traceback (most recent call last)",
      "\u001b[0;32m<ipython-input-1-799fa9b7c6a5>\u001b[0m in \u001b[0;36m<module>\u001b[0;34m()\u001b[0m\n\u001b[1;32m      1\u001b[0m \u001b[0;31m# First we need to get rid of the 'pet' variable defined by the for loop\u001b[0m\u001b[0;34m\u001b[0m\u001b[0;34m\u001b[0m\u001b[0;34m\u001b[0m\u001b[0m\n\u001b[0;32m----> 2\u001b[0;31m \u001b[0;32mdel\u001b[0m \u001b[0mpet\u001b[0m\u001b[0;34m\u001b[0m\u001b[0;34m\u001b[0m\u001b[0m\n\u001b[0m\u001b[1;32m      3\u001b[0m \u001b[0;34m\u001b[0m\u001b[0m\n\u001b[1;32m      4\u001b[0m \u001b[0;34m\u001b[0m\u001b[0m\n\u001b[1;32m      5\u001b[0m \u001b[0;31m# Here is the solution demonstrated:\u001b[0m\u001b[0;34m\u001b[0m\u001b[0;34m\u001b[0m\u001b[0;34m\u001b[0m\u001b[0m\n",
      "\u001b[0;31mNameError\u001b[0m: name 'pet' is not defined"
     ]
    }
   ],
   "source": [
    "# First we need to get rid of the 'pet' variable defined by the for loop\n",
    "del pet\n",
    "\n",
    "\n",
    "# Here is the solution demonstrated:\n",
    "def test_func():\n",
    "    animals = ['dog', 'cat', 'fish']\n",
    "    for pet in animals:\n",
    "        print(pet)\n",
    "\n",
    "test_func()\n",
    "\n",
    "print(pet)\n",
    "\n",
    "\n",
    "## What's the main difference between the code without the function \n",
    "## and the one with the function?"
   ]
  },
  {
   "cell_type": "code",
   "execution_count": null,
   "metadata": {
    "collapsed": true
   },
   "outputs": [],
   "source": []
  },
  {
   "cell_type": "markdown",
   "metadata": {},
   "source": [
    "### For loop syntax"
   ]
  },
  {
   "cell_type": "code",
   "execution_count": 2,
   "metadata": {},
   "outputs": [
    {
     "name": "stdout",
     "output_type": "stream",
     "text": [
      "alice\n",
      "david\n",
      "carolina\n"
     ]
    }
   ],
   "source": [
    "# Volunteer: Translate the code below to human-English.\n",
    "\n",
    "magicians = ['alice', 'david', 'carolina']\n",
    "\n",
    "for magician in magicians:\n",
    "    print(magician)"
   ]
  },
  {
   "cell_type": "markdown",
   "metadata": {},
   "source": [
    "__Translation:__\n",
    "\n",
    "for each item in `magicians`,\n",
    "\n",
    "assign that item to variable name `magician`,\n",
    "\n",
    "and print that variable"
   ]
  },
  {
   "cell_type": "code",
   "execution_count": null,
   "metadata": {},
   "outputs": [],
   "source": []
  },
  {
   "cell_type": "code",
   "execution_count": 9,
   "metadata": {},
   "outputs": [
    {
     "ename": "SyntaxError",
     "evalue": "invalid syntax (<ipython-input-9-a18f53ac2eac>, line 3)",
     "output_type": "error",
     "traceback": [
      "\u001b[0;36m  File \u001b[0;32m\"<ipython-input-9-a18f53ac2eac>\"\u001b[0;36m, line \u001b[0;32m3\u001b[0m\n\u001b[0;31m    for magician in magicians\u001b[0m\n\u001b[0m                             ^\u001b[0m\n\u001b[0;31mSyntaxError\u001b[0m\u001b[0;31m:\u001b[0m invalid syntax\n"
     ]
    }
   ],
   "source": [
    "# Run the block of code below. What's happening?\n",
    "\n",
    "for magician in magicians\n",
    "    print(magician)"
   ]
  },
  {
   "cell_type": "markdown",
   "metadata": {},
   "source": [
    "**ANSWER:** It is missing a colon `:`\n"
   ]
  },
  {
   "cell_type": "code",
   "execution_count": null,
   "metadata": {},
   "outputs": [],
   "source": []
  },
  {
   "cell_type": "code",
   "execution_count": 10,
   "metadata": {},
   "outputs": [
    {
     "ename": "IndentationError",
     "evalue": "expected an indented block (<ipython-input-10-084c28e83446>, line 4)",
     "output_type": "error",
     "traceback": [
      "\u001b[0;36m  File \u001b[0;32m\"<ipython-input-10-084c28e83446>\"\u001b[0;36m, line \u001b[0;32m4\u001b[0m\n\u001b[0;31m    print(magician)\u001b[0m\n\u001b[0m        ^\u001b[0m\n\u001b[0;31mIndentationError\u001b[0m\u001b[0;31m:\u001b[0m expected an indented block\n"
     ]
    }
   ],
   "source": [
    "# Run the block of code below. What's happening?\n",
    "\n",
    "for magician in magicians:\n",
    "print(magician)"
   ]
  },
  {
   "cell_type": "markdown",
   "metadata": {},
   "source": [
    "**ANSWER:** The second line of the code block needs indentation.\n",
    "    \n",
    "    \n",
    "    "
   ]
  },
  {
   "cell_type": "code",
   "execution_count": null,
   "metadata": {},
   "outputs": [],
   "source": []
  },
  {
   "cell_type": "code",
   "execution_count": 11,
   "metadata": {},
   "outputs": [
    {
     "name": "stdout",
     "output_type": "stream",
     "text": [
      "alice\n",
      "david\n",
      "carolina\n"
     ]
    }
   ],
   "source": [
    "# And how about now in the lines below?\n",
    "\n",
    "for magician in magicians: print(magician)"
   ]
  },
  {
   "cell_type": "code",
   "execution_count": 12,
   "metadata": {},
   "outputs": [
    {
     "name": "stdout",
     "output_type": "stream",
     "text": [
      "dog\n",
      "hello\n",
      "cat\n",
      "hello\n",
      "fish\n",
      "hello\n"
     ]
    }
   ],
   "source": [
    "for pet in animals: print(pet); print('hello')"
   ]
  },
  {
   "cell_type": "markdown",
   "metadata": {},
   "source": [
    "**TAKEAWAY:** The colon and indent complement each other.\n",
    "- The colon tells the interpreter to expect an indent, or a block of code that is part of the preceding code (in this case a for loop).\n",
    "- **ALSO,** although you can condense into one line and forego the need for indentation, *you lose readability of your code.*\n",
    "\n",
    "See DOCS for more info:\n",
    "https://www.python.org/dev/peps/pep-0008/#other-recommendations"
   ]
  },
  {
   "cell_type": "markdown",
   "metadata": {},
   "source": [
    "***"
   ]
  },
  {
   "cell_type": "markdown",
   "metadata": {},
   "source": [
    "***\n",
    "### Just a Note: Avoiding indentation errors\n",
    "\n",
    "##### Let's review an example of a logical error due to indentation\n",
    "\n",
    "- What’s the difference between the two blocks of code below? \n",
    "- What’s the difference in the output?"
   ]
  },
  {
   "cell_type": "code",
   "execution_count": 13,
   "metadata": {},
   "outputs": [
    {
     "name": "stdout",
     "output_type": "stream",
     "text": [
      "Alice, that was a great trick!\n",
      "I can't wait to see your next trick, Alice.\n",
      "\n",
      "David, that was a great trick!\n",
      "I can't wait to see your next trick, David.\n",
      "\n",
      "Carolina, that was a great trick!\n",
      "I can't wait to see your next trick, Carolina.\n",
      "\n",
      "Thank you, everyone. That was a great magic show!\n"
     ]
    }
   ],
   "source": [
    "# Version A\n",
    "\n",
    "for magician in magicians:\n",
    "    print(magician.title() + \", that was a great trick!\")\n",
    "    print(\"I can't wait to see your next trick, \" + magician.title() + \".\\n\")\n",
    "print(\"Thank you, everyone. That was a great magic show!\")"
   ]
  },
  {
   "cell_type": "code",
   "execution_count": 14,
   "metadata": {},
   "outputs": [
    {
     "name": "stdout",
     "output_type": "stream",
     "text": [
      "Alice, that was a great trick!\n",
      "David, that was a great trick!\n",
      "Carolina, that was a great trick!\n",
      "I can't wait to see your next trick, Carolina.\n",
      "\n",
      "Thank you, everyone. That was a great magic show!\n"
     ]
    }
   ],
   "source": [
    "# Version B\n",
    "\n",
    "for magician in magicians:\n",
    "    print(magician.title() + \", that was a great trick!\")\n",
    "print(\"I can't wait to see your next trick, \" + magician.title() + \".\\n\")\n",
    "print(\"Thank you, everyone. That was a great magic show!\")"
   ]
  },
  {
   "cell_type": "code",
   "execution_count": null,
   "metadata": {
    "collapsed": true
   },
   "outputs": [],
   "source": []
  },
  {
   "cell_type": "markdown",
   "metadata": {},
   "source": [
    "**TAKEAWAY:**\n",
    "- One way to avoid logical errors is to add a newline (aka blank line).\n",
    "- According to PEP 8 guidelines, a newline is called for because it improves readability."
   ]
  },
  {
   "cell_type": "code",
   "execution_count": null,
   "metadata": {},
   "outputs": [],
   "source": []
  },
  {
   "cell_type": "code",
   "execution_count": 15,
   "metadata": {},
   "outputs": [
    {
     "name": "stdout",
     "output_type": "stream",
     "text": [
      "Alice, that was a great trick!\n",
      "I can't wait to see your next trick, Alice.\n",
      "\n",
      "David, that was a great trick!\n",
      "I can't wait to see your next trick, David.\n",
      "\n",
      "Carolina, that was a great trick!\n",
      "I can't wait to see your next trick, Carolina.\n",
      "\n",
      "Thank you, everyone. That was a great magic show!\n"
     ]
    }
   ],
   "source": [
    "# Version with improved readability:\n",
    "\n",
    "for magician in magicians:\n",
    "    print(magician.title() + \", that was a great trick!\")\n",
    "    print(\"I can't wait to see your next trick, \" + magician.title() + \".\\n\")\n",
    "\n",
    "print(\"Thank you, everyone. That was a great magic show!\")\n"
   ]
  },
  {
   "cell_type": "code",
   "execution_count": null,
   "metadata": {
    "collapsed": true
   },
   "outputs": [],
   "source": []
  },
  {
   "cell_type": "markdown",
   "metadata": {},
   "source": [
    "***\n",
    "### Let's take it up a notch, and put together what we've learned so far:\n",
    "\n",
    "> Initialize a variable `squares` as an empty list.\n",
    "\n",
    "> For each value in the range 1 THROUGH 10, square the value,\n",
    "\n",
    "> and append it to `squares`."
   ]
  },
  {
   "cell_type": "code",
   "execution_count": null,
   "metadata": {
    "collapsed": true
   },
   "outputs": [],
   "source": []
  },
  {
   "cell_type": "code",
   "execution_count": 16,
   "metadata": {},
   "outputs": [
    {
     "name": "stdout",
     "output_type": "stream",
     "text": [
      "[1, 4, 9, 16, 25, 36, 49, 64, 81, 100]\n"
     ]
    }
   ],
   "source": [
    "# One solution:\n",
    "\n",
    "squares = []\n",
    "for value in range(1,11):\n",
    "    square = value**2\n",
    "    squares.append(square)\n",
    "\n",
    "print(squares)"
   ]
  },
  {
   "cell_type": "code",
   "execution_count": 17,
   "metadata": {},
   "outputs": [
    {
     "name": "stdout",
     "output_type": "stream",
     "text": [
      "[1, 4, 9, 16, 25, 36, 49, 64, 81, 100]\n",
      "[1, 4, 9, 16, 25, 36, 49, 64, 81, 100]\n"
     ]
    }
   ],
   "source": [
    "# What is one way to make the solution above more concise? \n",
    "# (without the use of list comprehension)\n",
    "\n",
    "squares = []\n",
    "\n",
    "for value in range(1,11):\n",
    "    squares.append(value**2)\n",
    "\n",
    "print(squares)\n",
    "\n",
    "    # OR\n",
    "\n",
    "squares = []\n",
    "\n",
    "for value in range(1,11): squares.append(value**2)\n",
    "\n",
    "print(squares)"
   ]
  },
  {
   "cell_type": "code",
   "execution_count": null,
   "metadata": {
    "collapsed": true
   },
   "outputs": [],
   "source": []
  },
  {
   "cell_type": "code",
   "execution_count": null,
   "metadata": {
    "collapsed": true
   },
   "outputs": [],
   "source": []
  }
 ],
 "metadata": {
  "kernelspec": {
   "display_name": "Python 3",
   "language": "python",
   "name": "python3"
  },
  "language_info": {
   "codemirror_mode": {
    "name": "ipython",
    "version": 3
   },
   "file_extension": ".py",
   "mimetype": "text/x-python",
   "name": "python",
   "nbconvert_exporter": "python",
   "pygments_lexer": "ipython3",
   "version": "3.6.8"
  }
 },
 "nbformat": 4,
 "nbformat_minor": 2
}
