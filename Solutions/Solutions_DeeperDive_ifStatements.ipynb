{
 "cells": [
  {
   "cell_type": "markdown",
   "metadata": {},
   "source": [
    "# Deeper Dive: `if` statements\n"
   ]
  },
  {
   "cell_type": "markdown",
   "metadata": {},
   "source": [
    "In this section, you will learn to:\n",
    "- **write conditional tests**, which allow you to check any condition of interest.\n",
    "- **write simple if statements**\n",
    "- **create a more complex series of if statements** to identify when the exact conditions you want are present. \n",
    "- **apply this concept to lists**, so you’ll be able to write a for loop that handles most items in a list one way but handles certain items with specific values in a different way\n",
    "***"
   ]
  },
  {
   "cell_type": "markdown",
   "metadata": {},
   "source": [
    "## 1) Assignment versus Comparison\n",
    "\n",
    "\n",
    "**What's the difference between the two lines of code below?**"
   ]
  },
  {
   "cell_type": "code",
   "execution_count": 1,
   "metadata": {},
   "outputs": [
    {
     "data": {
      "text/plain": [
       "True"
      ]
     },
     "execution_count": 1,
     "metadata": {},
     "output_type": "execute_result"
    }
   ],
   "source": [
    "car = 'bmw'\n",
    "car == 'bmw'"
   ]
  },
  {
   "cell_type": "markdown",
   "metadata": {},
   "source": [
    "- One `=` sign is the assignment statement. This assigns a value or object to a variable.\n",
    "- Double `==` sign indicates a comparison. It translates to: *Is the left side equal to the right side? *\n",
    "    - Using our example above: *Is the value assigned to the variable car equal to the value ‘bmw’?*\n"
   ]
  },
  {
   "cell_type": "code",
   "execution_count": 4,
   "metadata": {},
   "outputs": [
    {
     "data": {
      "text/plain": [
       "False"
      ]
     },
     "execution_count": 4,
     "metadata": {},
     "output_type": "execute_result"
    }
   ],
   "source": [
    "## Answer: the difference is assignment versus comparison\n",
    "\n",
    "## What's the expected output for the code below? Why?\n",
    "car == 'audi'"
   ]
  },
  {
   "cell_type": "code",
   "execution_count": null,
   "metadata": {},
   "outputs": [],
   "source": []
  },
  {
   "cell_type": "markdown",
   "metadata": {},
   "source": [
    "**Is the comparison case sensitive?**"
   ]
  },
  {
   "cell_type": "code",
   "execution_count": 6,
   "metadata": {},
   "outputs": [
    {
     "data": {
      "text/plain": [
       "False"
      ]
     },
     "execution_count": 6,
     "metadata": {},
     "output_type": "execute_result"
    }
   ],
   "source": [
    "## Case sensitive? Yes!\n",
    "\n",
    "car == 'BMW'"
   ]
  },
  {
   "cell_type": "code",
   "execution_count": null,
   "metadata": {
    "collapsed": true
   },
   "outputs": [],
   "source": []
  },
  {
   "cell_type": "markdown",
   "metadata": {},
   "source": [
    "**How could we make the expression evaluate to True** *without changing the variable assignment*?"
   ]
  },
  {
   "cell_type": "code",
   "execution_count": 7,
   "metadata": {},
   "outputs": [
    {
     "data": {
      "text/plain": [
       "True"
      ]
     },
     "execution_count": 7,
     "metadata": {},
     "output_type": "execute_result"
    }
   ],
   "source": [
    "# Answer:\n",
    "\n",
    "car.upper() == 'BMW'"
   ]
  },
  {
   "cell_type": "code",
   "execution_count": 8,
   "metadata": {},
   "outputs": [
    {
     "data": {
      "text/plain": [
       "True"
      ]
     },
     "execution_count": 8,
     "metadata": {},
     "output_type": "execute_result"
    }
   ],
   "source": [
    "# Another answer:\n",
    "\n",
    "car == 'BMW'.lower()"
   ]
  },
  {
   "cell_type": "markdown",
   "metadata": {},
   "source": [
    "### Conditional Tests\n",
    "\n",
    "- A conditional test is an expression that can be evaluated as `True` or `False`.\n",
    "\n",
    "### Boolean Expressions\n",
    "\n",
    "- A Boolean expression is just another name for a conditional test.\n",
    "    - A Boolean value is either `True` or `False`, just like the value of a conditional expression after it has been evaluated.\n",
    "    - Boolean values are often used to keep track of certain conditions, such as whether a game is running or whether a user can edit certain content on a website.\n",
    "    - Boolean values provide an efficient way to track the state of a program or a particular condition that is important in your program.\n",
    "\n",
    "---"
   ]
  },
  {
   "cell_type": "markdown",
   "metadata": {},
   "source": [
    "***\n",
    "## 2) Checking for Equality\n",
    "\n",
    "**What boolean value do we expect for the expressions below?**"
   ]
  },
  {
   "cell_type": "code",
   "execution_count": 9,
   "metadata": {},
   "outputs": [
    {
     "data": {
      "text/plain": [
       "False"
      ]
     },
     "execution_count": 9,
     "metadata": {},
     "output_type": "execute_result"
    }
   ],
   "source": [
    "4 == '4'"
   ]
  },
  {
   "cell_type": "code",
   "execution_count": 10,
   "metadata": {},
   "outputs": [
    {
     "data": {
      "text/plain": [
       "True"
      ]
     },
     "execution_count": 10,
     "metadata": {},
     "output_type": "execute_result"
    }
   ],
   "source": [
    "2 == 2.0"
   ]
  },
  {
   "cell_type": "code",
   "execution_count": 11,
   "metadata": {},
   "outputs": [
    {
     "data": {
      "text/plain": [
       "False"
      ]
     },
     "execution_count": 11,
     "metadata": {},
     "output_type": "execute_result"
    }
   ],
   "source": [
    "2 == 2.1"
   ]
  },
  {
   "cell_type": "markdown",
   "metadata": {},
   "source": [
    "Answers:\n",
    "- `str` and `int` will never be equal data types, so first expression is `False`\n",
    "- Numerical comparisons are mathematical comparisons, and behave as expected. \n",
    "    - Even between `int` and `float`"
   ]
  },
  {
   "cell_type": "code",
   "execution_count": null,
   "metadata": {
    "collapsed": true
   },
   "outputs": [],
   "source": []
  },
  {
   "cell_type": "markdown",
   "metadata": {},
   "source": [
    "**What boolean value do we expect for the expressions below? Why?**"
   ]
  },
  {
   "cell_type": "code",
   "execution_count": 12,
   "metadata": {},
   "outputs": [
    {
     "data": {
      "text/plain": [
       "False"
      ]
     },
     "execution_count": 12,
     "metadata": {},
     "output_type": "execute_result"
    }
   ],
   "source": [
    "# What's happening here?\n",
    "8 != 8"
   ]
  },
  {
   "cell_type": "code",
   "execution_count": 13,
   "metadata": {},
   "outputs": [
    {
     "data": {
      "text/plain": [
       "True"
      ]
     },
     "execution_count": 13,
     "metadata": {},
     "output_type": "execute_result"
    }
   ],
   "source": [
    "4 != 8"
   ]
  },
  {
   "cell_type": "markdown",
   "metadata": {},
   "source": [
    "Answer: \n",
    "- We are checking for inequality using the bang `!` symbol.\n",
    "- The bang `!` symbol, also known as the exclamation mark, is making the expression check if the left side is ***not*** equal to the right side.\n",
    "\n"
   ]
  },
  {
   "cell_type": "code",
   "execution_count": null,
   "metadata": {
    "collapsed": true
   },
   "outputs": [],
   "source": []
  },
  {
   "cell_type": "markdown",
   "metadata": {},
   "source": [
    "---\n",
    "##### Basic mathematical comparisons read like English:\n",
    "\n",
    "- The expression `age > 21` translates to *“is age greater than 21?”*\n",
    "- The expression `age <= 22` translates to *“is age less than or equal to 22?”*\n",
    "- The expression `age < 29` translates to *“is age less than 29?”*\n",
    "- The expression `age >= 29.1` translates to *“is age greater than or equal to 29.1?”*"
   ]
  },
  {
   "cell_type": "code",
   "execution_count": 14,
   "metadata": {},
   "outputs": [
    {
     "name": "stdout",
     "output_type": "stream",
     "text": [
      "True\n",
      "False\n",
      "True\n",
      "False\n"
     ]
    }
   ],
   "source": [
    "age = 29\n",
    "\n",
    "print(age > 21)\n",
    "print(age <= 22)\n",
    "print(age <= 29)\n",
    "print(age >= 29.1)"
   ]
  },
  {
   "cell_type": "code",
   "execution_count": null,
   "metadata": {
    "collapsed": true
   },
   "outputs": [],
   "source": []
  },
  {
   "cell_type": "markdown",
   "metadata": {},
   "source": [
    "**What is the expected output for the expressions below?**\n"
   ]
  },
  {
   "cell_type": "code",
   "execution_count": 15,
   "metadata": {},
   "outputs": [
    {
     "ename": "TypeError",
     "evalue": "'>' not supported between instances of 'int' and 'str'",
     "output_type": "error",
     "traceback": [
      "\u001b[0;31m---------------------------------------------------------------------------\u001b[0m",
      "\u001b[0;31mTypeError\u001b[0m                                 Traceback (most recent call last)",
      "\u001b[0;32m<ipython-input-15-153545da3173>\u001b[0m in \u001b[0;36m<module>\u001b[0;34m()\u001b[0m\n\u001b[0;32m----> 1\u001b[0;31m \u001b[0mprint\u001b[0m\u001b[0;34m(\u001b[0m\u001b[0;36m3\u001b[0m \u001b[0;34m>\u001b[0m \u001b[0;34m'3'\u001b[0m\u001b[0;34m)\u001b[0m\u001b[0;34m\u001b[0m\u001b[0;34m\u001b[0m\u001b[0m\n\u001b[0m\u001b[1;32m      2\u001b[0m \u001b[0mprint\u001b[0m\u001b[0;34m(\u001b[0m\u001b[0;36m3\u001b[0m \u001b[0;34m>\u001b[0m \u001b[0;36m3.1\u001b[0m\u001b[0;34m)\u001b[0m\u001b[0;34m\u001b[0m\u001b[0;34m\u001b[0m\u001b[0m\n",
      "\u001b[0;31mTypeError\u001b[0m: '>' not supported between instances of 'int' and 'str'"
     ]
    }
   ],
   "source": [
    "print(3 > '3')\n",
    "print(3 > 3.1)"
   ]
  },
  {
   "cell_type": "markdown",
   "metadata": {},
   "source": [
    "__Takeaway:__\n",
    "- Only `==` works for comparisons between `int` and `str`\n",
    "\n",
    "*From the DOCS:*\n",
    "- Comparing objects of different types with < or > is legal *PROVIDED* that the objects have appropriate comparison methods.\n",
    "- For example, mixed numeric types are compared according to their numeric value, so 0 equals 0.0, etc. \n",
    "- Otherwise, rather than providing an arbitrary ordering, the interpreter will raise a TypeError exception.\n",
    "\n",
    "*link to DOCS:*\n",
    "https://docs.python.org/3/tutorial/datastructures.html#comparing-sequences-and-other-types"
   ]
  },
  {
   "cell_type": "code",
   "execution_count": null,
   "metadata": {
    "collapsed": true
   },
   "outputs": [],
   "source": []
  },
  {
   "cell_type": "markdown",
   "metadata": {},
   "source": [
    "### Just a note..."
   ]
  },
  {
   "cell_type": "markdown",
   "metadata": {},
   "source": [
    "**What about the expressions below?**"
   ]
  },
  {
   "cell_type": "code",
   "execution_count": 16,
   "metadata": {},
   "outputs": [
    {
     "name": "stdout",
     "output_type": "stream",
     "text": [
      "False\n",
      "True\n",
      "True\n",
      "False\n"
     ]
    }
   ],
   "source": [
    "print('four' > 'two')\n",
    "print('two' > 'four')\n",
    "print('1' >= '1')\n",
    "print('1' > '1')"
   ]
  },
  {
   "cell_type": "markdown",
   "metadata": {},
   "source": [
    "***What is going on?!***\n",
    "\n",
    "\n",
    "##### GOOGLE SEARCH:\n",
    "- https://stackoverflow.com/questions/4806911/string-comparison-technique-used-by-python\n",
    "- https://thepythonguru.com/python-strings/\n",
    "\n",
    "Python uses lexicographical order (i.e. alphabetical order) when evaluating comparisons between strings.\n",
    "\n",
    "**Use the `ord()` function to see the associated lexicographical order value of a character:**"
   ]
  },
  {
   "cell_type": "code",
   "execution_count": 17,
   "metadata": {},
   "outputs": [
    {
     "data": {
      "text/plain": [
       "102"
      ]
     },
     "execution_count": 17,
     "metadata": {},
     "output_type": "execute_result"
    }
   ],
   "source": [
    "ord('f')"
   ]
  },
  {
   "cell_type": "code",
   "execution_count": 18,
   "metadata": {},
   "outputs": [
    {
     "data": {
      "text/plain": [
       "116"
      ]
     },
     "execution_count": 18,
     "metadata": {},
     "output_type": "execute_result"
    }
   ],
   "source": [
    "ord('t')"
   ]
  },
  {
   "cell_type": "code",
   "execution_count": 19,
   "metadata": {},
   "outputs": [
    {
     "ename": "TypeError",
     "evalue": "ord() expected string of length 1, but int found",
     "output_type": "error",
     "traceback": [
      "\u001b[0;31m---------------------------------------------------------------------------\u001b[0m",
      "\u001b[0;31mTypeError\u001b[0m                                 Traceback (most recent call last)",
      "\u001b[0;32m<ipython-input-19-fc65a25035fc>\u001b[0m in \u001b[0;36m<module>\u001b[0;34m()\u001b[0m\n\u001b[1;32m      1\u001b[0m \u001b[0;31m# NOTE: Only works on strings\u001b[0m\u001b[0;34m\u001b[0m\u001b[0;34m\u001b[0m\u001b[0;34m\u001b[0m\u001b[0m\n\u001b[1;32m      2\u001b[0m \u001b[0;34m\u001b[0m\u001b[0m\n\u001b[0;32m----> 3\u001b[0;31m \u001b[0mord\u001b[0m\u001b[0;34m(\u001b[0m\u001b[0;36m4\u001b[0m\u001b[0;34m)\u001b[0m\u001b[0;34m\u001b[0m\u001b[0;34m\u001b[0m\u001b[0m\n\u001b[0m",
      "\u001b[0;31mTypeError\u001b[0m: ord() expected string of length 1, but int found"
     ]
    }
   ],
   "source": [
    "# NOTE: Only works on strings\n",
    "\n",
    "ord(4)"
   ]
  },
  {
   "cell_type": "code",
   "execution_count": 20,
   "metadata": {},
   "outputs": [
    {
     "ename": "TypeError",
     "evalue": "ord() expected a character, but string of length 4 found",
     "output_type": "error",
     "traceback": [
      "\u001b[0;31m---------------------------------------------------------------------------\u001b[0m",
      "\u001b[0;31mTypeError\u001b[0m                                 Traceback (most recent call last)",
      "\u001b[0;32m<ipython-input-20-9cf9880d52bf>\u001b[0m in \u001b[0;36m<module>\u001b[0;34m()\u001b[0m\n\u001b[1;32m      1\u001b[0m \u001b[0;31m# NOTE: Only works on 1-character strings (len = 1)\u001b[0m\u001b[0;34m\u001b[0m\u001b[0;34m\u001b[0m\u001b[0;34m\u001b[0m\u001b[0m\n\u001b[1;32m      2\u001b[0m \u001b[0;34m\u001b[0m\u001b[0m\n\u001b[0;32m----> 3\u001b[0;31m \u001b[0mord\u001b[0m\u001b[0;34m(\u001b[0m\u001b[0;34m'woot'\u001b[0m\u001b[0;34m)\u001b[0m\u001b[0;34m\u001b[0m\u001b[0;34m\u001b[0m\u001b[0m\n\u001b[0m",
      "\u001b[0;31mTypeError\u001b[0m: ord() expected a character, but string of length 4 found"
     ]
    }
   ],
   "source": [
    "# NOTE: Only works on 1-character strings (len = 1)\n",
    "\n",
    "ord('woot')"
   ]
  },
  {
   "cell_type": "code",
   "execution_count": null,
   "metadata": {},
   "outputs": [],
   "source": []
  },
  {
   "cell_type": "markdown",
   "metadata": {},
   "source": [
    "**You can also use the `chr()` function to see which character responds to a specified value:**"
   ]
  },
  {
   "cell_type": "code",
   "execution_count": 21,
   "metadata": {},
   "outputs": [
    {
     "data": {
      "text/plain": [
       "'\\x01'"
      ]
     },
     "execution_count": 21,
     "metadata": {},
     "output_type": "execute_result"
    }
   ],
   "source": [
    "chr(1)\n"
   ]
  },
  {
   "cell_type": "code",
   "execution_count": 22,
   "metadata": {},
   "outputs": [
    {
     "data": {
      "text/plain": [
       "'x'"
      ]
     },
     "execution_count": 22,
     "metadata": {},
     "output_type": "execute_result"
    }
   ],
   "source": [
    "chr(120)"
   ]
  },
  {
   "cell_type": "code",
   "execution_count": 25,
   "metadata": {},
   "outputs": [
    {
     "data": {
      "text/plain": [
       "'Ƽ'"
      ]
     },
     "execution_count": 25,
     "metadata": {},
     "output_type": "execute_result"
    }
   ],
   "source": [
    "chr(444)"
   ]
  },
  {
   "cell_type": "code",
   "execution_count": null,
   "metadata": {
    "collapsed": true
   },
   "outputs": [],
   "source": []
  },
  {
   "cell_type": "markdown",
   "metadata": {},
   "source": [
    "**Now that we know how strings are compared, what is the expected output for the expressions below?**\n"
   ]
  },
  {
   "cell_type": "code",
   "execution_count": 28,
   "metadata": {},
   "outputs": [
    {
     "data": {
      "text/plain": [
       "True"
      ]
     },
     "execution_count": 28,
     "metadata": {},
     "output_type": "execute_result"
    }
   ],
   "source": [
    "\"right\" >= \"lift\""
   ]
  },
  {
   "cell_type": "code",
   "execution_count": 29,
   "metadata": {},
   "outputs": [
    {
     "data": {
      "text/plain": [
       "False"
      ]
     },
     "execution_count": 29,
     "metadata": {},
     "output_type": "execute_result"
    }
   ],
   "source": [
    "\"teeth\" < \"tee\""
   ]
  },
  {
   "cell_type": "markdown",
   "metadata": {
    "collapsed": true
   },
   "source": [
    "### -- END NOTE --"
   ]
  },
  {
   "cell_type": "code",
   "execution_count": null,
   "metadata": {},
   "outputs": [],
   "source": []
  },
  {
   "cell_type": "markdown",
   "metadata": {},
   "source": [
    "> **You can also compare data type classes:**"
   ]
  },
  {
   "cell_type": "code",
   "execution_count": 30,
   "metadata": {},
   "outputs": [
    {
     "data": {
      "text/plain": [
       "True"
      ]
     },
     "execution_count": 30,
     "metadata": {},
     "output_type": "execute_result"
    }
   ],
   "source": [
    "type(age) == int"
   ]
  },
  {
   "cell_type": "code",
   "execution_count": null,
   "metadata": {
    "collapsed": true
   },
   "outputs": [],
   "source": []
  },
  {
   "cell_type": "code",
   "execution_count": null,
   "metadata": {
    "collapsed": true
   },
   "outputs": [],
   "source": []
  },
  {
   "cell_type": "markdown",
   "metadata": {},
   "source": [
    "---\n",
    "## 3) Checking Multiple Conditions\n",
    "\n",
    "Let's set some variables for this next topic."
   ]
  },
  {
   "cell_type": "code",
   "execution_count": 31,
   "metadata": {},
   "outputs": [],
   "source": [
    "age_1 = 25\n",
    "age_2 = 35\n",
    "age_3 = 45"
   ]
  },
  {
   "cell_type": "markdown",
   "metadata": {},
   "source": [
    "### Using `and` to check multiple conditions\n",
    "\n",
    "What's the expected boolean value for code below?\n",
    "\n",
    "How is each test evaluating?"
   ]
  },
  {
   "cell_type": "code",
   "execution_count": 32,
   "metadata": {},
   "outputs": [
    {
     "data": {
      "text/plain": [
       "True"
      ]
     },
     "execution_count": 32,
     "metadata": {},
     "output_type": "execute_result"
    }
   ],
   "source": [
    "age_1 > 18 and age_3 > age_2"
   ]
  },
  {
   "cell_type": "code",
   "execution_count": 33,
   "metadata": {},
   "outputs": [
    {
     "data": {
      "text/plain": [
       "False"
      ]
     },
     "execution_count": 33,
     "metadata": {},
     "output_type": "execute_result"
    }
   ],
   "source": [
    "age_2 > 18 and age_2 > 36"
   ]
  },
  {
   "cell_type": "markdown",
   "metadata": {},
   "source": [
    "Answer: Both conditions must be met in order for the expression to evaluate to `True`.\n"
   ]
  },
  {
   "cell_type": "code",
   "execution_count": 34,
   "metadata": {},
   "outputs": [
    {
     "ename": "SyntaxError",
     "evalue": "invalid syntax (<ipython-input-34-b1d5de4dc71c>, line 1)",
     "output_type": "error",
     "traceback": [
      "\u001b[0;36m  File \u001b[0;32m\"<ipython-input-34-b1d5de4dc71c>\"\u001b[0;36m, line \u001b[0;32m1\u001b[0m\n\u001b[0;31m    age_2 > 18 and > 36\u001b[0m\n\u001b[0m                   ^\u001b[0m\n\u001b[0;31mSyntaxError\u001b[0m\u001b[0;31m:\u001b[0m invalid syntax\n"
     ]
    }
   ],
   "source": [
    "age_2 > 18 and > 36"
   ]
  },
  {
   "cell_type": "markdown",
   "metadata": {},
   "source": [
    "What happened in the code above? How do we resolve that error?"
   ]
  },
  {
   "cell_type": "code",
   "execution_count": 38,
   "metadata": {},
   "outputs": [
    {
     "data": {
      "text/plain": [
       "False"
      ]
     },
     "execution_count": 38,
     "metadata": {},
     "output_type": "execute_result"
    }
   ],
   "source": [
    "# One solution:\n",
    "age_2 > 18 and age_2 > 36"
   ]
  },
  {
   "cell_type": "code",
   "execution_count": 39,
   "metadata": {},
   "outputs": [
    {
     "data": {
      "text/plain": [
       "True"
      ]
     },
     "execution_count": 39,
     "metadata": {},
     "output_type": "execute_result"
    }
   ],
   "source": [
    "# Another solution:\n",
    "18 < age_2 < 36"
   ]
  },
  {
   "cell_type": "markdown",
   "metadata": {},
   "source": [
    "*Note: You can add parentheses around expressions to improve readability, but it's not required for code to run successfully.*\n",
    "***\n",
    "\n",
    "### Using `or` to check multiple conditions\n",
    "\n",
    "What's the expected boolean value for code below?\n",
    "\n",
    "How is each test evaluating?"
   ]
  },
  {
   "cell_type": "code",
   "execution_count": 40,
   "metadata": {},
   "outputs": [
    {
     "data": {
      "text/plain": [
       "True"
      ]
     },
     "execution_count": 40,
     "metadata": {},
     "output_type": "execute_result"
    }
   ],
   "source": [
    "(age_1 > 18) or (age_3 > age_2)\n"
   ]
  },
  {
   "cell_type": "code",
   "execution_count": 41,
   "metadata": {},
   "outputs": [
    {
     "data": {
      "text/plain": [
       "True"
      ]
     },
     "execution_count": 41,
     "metadata": {},
     "output_type": "execute_result"
    }
   ],
   "source": [
    "(age_2 > 18) or (age_2 > 36)\n"
   ]
  },
  {
   "cell_type": "code",
   "execution_count": 42,
   "metadata": {},
   "outputs": [
    {
     "data": {
      "text/plain": [
       "False"
      ]
     },
     "execution_count": 42,
     "metadata": {},
     "output_type": "execute_result"
    }
   ],
   "source": [
    "(age_1 > age_2) or (age_2 > age_3)\n"
   ]
  },
  {
   "cell_type": "markdown",
   "metadata": {},
   "source": [
    "Answer: Only 1 condition must be met in order for the expression to evaluate to `True`."
   ]
  },
  {
   "cell_type": "code",
   "execution_count": null,
   "metadata": {
    "collapsed": true
   },
   "outputs": [],
   "source": []
  },
  {
   "cell_type": "markdown",
   "metadata": {},
   "source": [
    "---\n",
    "### Checking whether a value is in a list\n"
   ]
  },
  {
   "cell_type": "code",
   "execution_count": 43,
   "metadata": {},
   "outputs": [],
   "source": [
    "# Assigning variable to list.\n",
    "a_list = ['cat', 'dog', 'fish', 'pig', 'gecko']"
   ]
  },
  {
   "cell_type": "code",
   "execution_count": 44,
   "metadata": {},
   "outputs": [
    {
     "data": {
      "text/plain": [
       "True"
      ]
     },
     "execution_count": 44,
     "metadata": {},
     "output_type": "execute_result"
    }
   ],
   "source": [
    "'gecko' in a_list\n"
   ]
  },
  {
   "cell_type": "code",
   "execution_count": 45,
   "metadata": {},
   "outputs": [
    {
     "data": {
      "text/plain": [
       "False"
      ]
     },
     "execution_count": 45,
     "metadata": {},
     "output_type": "execute_result"
    }
   ],
   "source": [
    "# Remember: comparisons are case-sensitive. \n",
    "# A capital ‘G’ is not the same as a lowercase ‘g’ in Python\n",
    "\n",
    "'Gecko' in a_list\n"
   ]
  },
  {
   "cell_type": "markdown",
   "metadata": {},
   "source": [
    "** How do we check if a value is *NOT* in a list?***"
   ]
  },
  {
   "cell_type": "code",
   "execution_count": 46,
   "metadata": {},
   "outputs": [
    {
     "data": {
      "text/plain": [
       "True"
      ]
     },
     "execution_count": 46,
     "metadata": {},
     "output_type": "execute_result"
    }
   ],
   "source": [
    "#### Checking whether a value is NOT in a list\n",
    "4 not in a_list"
   ]
  },
  {
   "cell_type": "code",
   "execution_count": null,
   "metadata": {
    "collapsed": true
   },
   "outputs": [],
   "source": []
  },
  {
   "cell_type": "markdown",
   "metadata": {},
   "source": [
    "---"
   ]
  },
  {
   "cell_type": "markdown",
   "metadata": {},
   "source": [
    "### 4) Simple `if` statement\n",
    "\n",
    "**NOW LET'S ACTUALLY USE THESE CONDITIONAL TESTS!**\n",
    "\n",
    "A simple if statement has one test and one action:\n",
    "\n",
    "*SYNTAX*\n",
    "\n",
    "`if conditional_test:\n",
    "    do something`"
   ]
  },
  {
   "cell_type": "code",
   "execution_count": 47,
   "metadata": {},
   "outputs": [
    {
     "name": "stdout",
     "output_type": "stream",
     "text": [
      "You are old enough to vote.\n",
      "Have you registered to vote yet?\n"
     ]
    }
   ],
   "source": [
    "# An example of a simple if statement\n",
    "\n",
    "age_luna = 444\n",
    "age_tim = 10\n",
    "\n",
    "if age_luna > 18:\n",
    "    print(\"You are old enough to vote.\")\n",
    "    print(\"Have you registered to vote yet?\")"
   ]
  },
  {
   "cell_type": "code",
   "execution_count": null,
   "metadata": {},
   "outputs": [],
   "source": []
  },
  {
   "cell_type": "markdown",
   "metadata": {},
   "source": [
    "**What output do you expect from the following block of code?**"
   ]
  },
  {
   "cell_type": "code",
   "execution_count": 48,
   "metadata": {},
   "outputs": [],
   "source": [
    "if age_tim > 18:\n",
    "    print(\"You are old enough to vote.\")\n",
    "    print(\"Have you registered to vote yet?\")"
   ]
  },
  {
   "cell_type": "markdown",
   "metadata": {
    "collapsed": true
   },
   "source": [
    "__Answer:__ No expected output because `age_tim > 18` evaluates to `False`."
   ]
  },
  {
   "cell_type": "code",
   "execution_count": null,
   "metadata": {},
   "outputs": [],
   "source": []
  },
  {
   "cell_type": "markdown",
   "metadata": {},
   "source": [
    "---\n",
    "### `if-else` statements\n",
    "- The `else` statement allows you to define an action or set of actions that are executed *when the conditional test fails.*\n",
    "- `else` is optional."
   ]
  },
  {
   "cell_type": "code",
   "execution_count": 49,
   "metadata": {},
   "outputs": [
    {
     "name": "stdout",
     "output_type": "stream",
     "text": [
      "Sorry, you are not old enough to vote.\n",
      "Goodbye.\n"
     ]
    }
   ],
   "source": [
    "# Example\n",
    "\n",
    "if age_tim > 18:\n",
    "    print(\"You are old enough to vote.\")\n",
    "    print(\"Have you registered to vote yet?\")\n",
    "else:\n",
    "    print(\"Sorry, you are not old enough to vote.\\nGoodbye.\")"
   ]
  },
  {
   "cell_type": "markdown",
   "metadata": {},
   "source": [
    "---\n",
    "### SHORT CIRCUITING BEHAVIOR: shorthand `if-else` statement\n",
    "\n",
    "What is going on in the code below?"
   ]
  },
  {
   "cell_type": "code",
   "execution_count": 50,
   "metadata": {},
   "outputs": [
    {
     "name": "stdout",
     "output_type": "stream",
     "text": [
      "Do Something\n"
     ]
    }
   ],
   "source": [
    "False or print('Do Something')"
   ]
  },
  {
   "cell_type": "code",
   "execution_count": 51,
   "metadata": {},
   "outputs": [
    {
     "data": {
      "text/plain": [
       "False"
      ]
     },
     "execution_count": 51,
     "metadata": {},
     "output_type": "execute_result"
    }
   ],
   "source": [
    "False and print('Do Something')"
   ]
  },
  {
   "cell_type": "code",
   "execution_count": 52,
   "metadata": {},
   "outputs": [
    {
     "name": "stdout",
     "output_type": "stream",
     "text": [
      "Do Something\n"
     ]
    }
   ],
   "source": [
    "True and print('Do Something')"
   ]
  },
  {
   "cell_type": "code",
   "execution_count": null,
   "metadata": {
    "collapsed": true
   },
   "outputs": [],
   "source": []
  },
  {
   "cell_type": "markdown",
   "metadata": {},
   "source": [
    "- Read the DOCS: https://docs.python.org/3/library/stdtypes.html#boolean-operations-and-or-not\n",
    "- Great article that breaks down topic: https://www.geeksforgeeks.org/short-circuiting-techniques-python/\n",
    "\n",
    "- **This is called short-circuit evaluation.**\n",
    "- The expression on the left of the `and` operator is evaluated first.\n",
    "    - If the expression on the left yields `False`, Python does not evaluate the expression on the right.\n",
    "    - So there are no unnecessary evaluations.\n",
    "    \n",
    "    \n",
    "- Similarly, for the `or` operator, left side is evaluated first: if the result is `True`, Python does not (and need not) evaluate the expression on the right."
   ]
  },
  {
   "cell_type": "code",
   "execution_count": 53,
   "metadata": {},
   "outputs": [
    {
     "name": "stdout",
     "output_type": "stream",
     "text": [
      "This person is not 18 or older.\n"
     ]
    }
   ],
   "source": [
    "age = 17.5\n",
    "\n",
    "age >= 18 and print('Do Something') or print('This person is not 18 or older.')"
   ]
  },
  {
   "cell_type": "code",
   "execution_count": null,
   "metadata": {
    "collapsed": true
   },
   "outputs": [],
   "source": []
  },
  {
   "cell_type": "markdown",
   "metadata": {},
   "source": [
    "---\n",
    "## 5) `if-elif-else` syntax\n",
    "\n",
    "**To test more than two possible situations use Python’s if-elif-else syntax.**\n",
    "\n",
    "- Python executes only one block in an if-elif-else chain.\n",
    "- It runs each conditional test **in order until one passes**.\n",
    "- When a test passes, the code following that test is executed, **and Python skips the rest of the tests.**\n",
    "\n",
    "*SYNTAX:*\n",
    "\n",
    "`if condition:\n",
    "    do something\n",
    "elif condition 2:\n",
    "    do something\n",
    "else:\n",
    "    do this`"
   ]
  },
  {
   "cell_type": "code",
   "execution_count": null,
   "metadata": {},
   "outputs": [],
   "source": []
  },
  {
   "cell_type": "markdown",
   "metadata": {},
   "source": [
    "##### Help me build a program that determines the admission cost to an amusement park using the rates below:\n",
    "\n",
    "- Admission for anyone under age 4 is free.\n",
    "- Admission for anyone between the ages of 4 and 18 is \\$5.\n",
    "- Admission for anyone age 18 or older is $10."
   ]
  },
  {
   "cell_type": "code",
   "execution_count": 54,
   "metadata": {},
   "outputs": [
    {
     "name": "stdout",
     "output_type": "stream",
     "text": [
      "Your admission cost is $5\n"
     ]
    }
   ],
   "source": [
    "# One solution:\n",
    "\n",
    "age = 16\n",
    "\n",
    "## Admission for anyone under age 4 is free.\n",
    "if age < 4:\n",
    "    price = 0\n",
    "## Admission for anyone between the ages of 4 and 18 is $5.\n",
    "elif age <= 18:\n",
    "    price = 5\n",
    "## Admission for anyone age 18 or older is $10.\n",
    "else:\n",
    "    price = 10\n",
    "\n",
    "print(\"Your admission cost is $\" + str(price))"
   ]
  },
  {
   "cell_type": "code",
   "execution_count": null,
   "metadata": {},
   "outputs": [],
   "source": []
  },
  {
   "cell_type": "code",
   "execution_count": null,
   "metadata": {},
   "outputs": [],
   "source": []
  },
  {
   "cell_type": "markdown",
   "metadata": {},
   "source": [
    "##### What if we need to test for more than 3 conditions?\n",
    "\n",
    "Let's add an admission rate for ages 65+"
   ]
  },
  {
   "cell_type": "code",
   "execution_count": 55,
   "metadata": {},
   "outputs": [
    {
     "name": "stdout",
     "output_type": "stream",
     "text": [
      "Your admission cost is $5\n"
     ]
    }
   ],
   "source": [
    "# One Solution\n",
    "\n",
    "age = 66\n",
    "\n",
    "if age < 4:\n",
    "    price = 0\n",
    "elif age <= 18:\n",
    "    price = 5\n",
    "elif age >= 65:\n",
    "    price = 5\n",
    "else:\n",
    "    price = 10\n",
    "\n",
    "print(\"Your admission cost is $\" + str(price))"
   ]
  },
  {
   "cell_type": "code",
   "execution_count": null,
   "metadata": {
    "collapsed": true
   },
   "outputs": [],
   "source": []
  },
  {
   "cell_type": "markdown",
   "metadata": {},
   "source": [
    "- The else block is a catchall statement.\n",
    "- **TAKEAWAY**: Be sure you are thinking about all possible conditions.\n",
    "\n",
    "##### How can we make the code in the solution above more concise?"
   ]
  },
  {
   "cell_type": "code",
   "execution_count": 56,
   "metadata": {},
   "outputs": [
    {
     "name": "stdout",
     "output_type": "stream",
     "text": [
      "Your admission cost is $5\n"
     ]
    }
   ],
   "source": [
    "if age < 4:\n",
    "    price = 0\n",
    "elif age <= 18 or age >=65:\n",
    "    price = 5\n",
    "else:\n",
    "    price = 10\n",
    "\n",
    "print(\"Your admission cost is $\" + str(price))"
   ]
  },
  {
   "cell_type": "code",
   "execution_count": null,
   "metadata": {
    "collapsed": true
   },
   "outputs": [],
   "source": []
  },
  {
   "cell_type": "markdown",
   "metadata": {},
   "source": [
    "##### What is happening in the if statement below?"
   ]
  },
  {
   "cell_type": "code",
   "execution_count": 57,
   "metadata": {},
   "outputs": [
    {
     "name": "stdout",
     "output_type": "stream",
     "text": [
      "Your admission cost is $5\n"
     ]
    }
   ],
   "source": [
    "age = 3\n",
    "\n",
    "if age <= 18:\n",
    "    price = 5\n",
    "elif age < 4:\n",
    "    price = 0\n",
    "else:\n",
    "    price = 10\n",
    "\n",
    "print(\"Your admission cost is $\" + str(price))"
   ]
  },
  {
   "cell_type": "markdown",
   "metadata": {},
   "source": [
    "**TAKEAWAY**: Order of tests matter in if-elif statement!!\n",
    "\n",
    "Let's look at another example:\n",
    "\n",
    "- In the program below, each condition is checked in order. \n",
    "- If the first is false, the next is checked, and so on. \n",
    "- If one of them is true, the corresponding branch executes, and the statement ends. \n",
    "- Even if more than one condition is true, only the first true branch executes."
   ]
  },
  {
   "cell_type": "code",
   "execution_count": 58,
   "metadata": {},
   "outputs": [
    {
     "name": "stdout",
     "output_type": "stream",
     "text": [
      "What is your choice?b\n",
      "You chose b\n"
     ]
    }
   ],
   "source": [
    "choice = input(\"What is your choice?\")\n",
    "\n",
    "\n",
    "if choice == \"a\":\n",
    "    print('You chose a')\n",
    "elif choice == \"b\":\n",
    "    print('You chose b')\n",
    "elif choice == \"c\":\n",
    "    print('You chose c')\n",
    "else:\n",
    "    print(\"Invalid choice.\")"
   ]
  },
  {
   "cell_type": "markdown",
   "metadata": {},
   "source": [
    "---\n",
    "\n",
    "#### Let's review an example of a situation when the `if-elif-else` block is *NOT* the best route.\n",
    "\n",
    "What's happening in the code below?"
   ]
  },
  {
   "cell_type": "code",
   "execution_count": 59,
   "metadata": {},
   "outputs": [
    {
     "name": "stdout",
     "output_type": "stream",
     "text": [
      "Adding mushrooms...\n",
      "Your pizza is ready!\n"
     ]
    }
   ],
   "source": [
    "##### EXAMPLE OF WHEN if-elif-else block is not the best route:\n",
    "\n",
    "requested_toppings = ['mushrooms', 'extra cheese']\n",
    "\n",
    "if 'mushrooms' in requested_toppings:\n",
    "    print('Adding mushrooms...')\n",
    "elif 'pepperoni' in requested_toppings:\n",
    "    print('Adding pepperoni...')\n",
    "elif 'extra cheese' in requested_toppings:\n",
    "    print('Adding extra cheese')\n",
    "\n",
    "print(\"Your pizza is ready!\")\n",
    "\n"
   ]
  },
  {
   "cell_type": "markdown",
   "metadata": {},
   "source": [
    "**Result:**\n",
    "The program exits the `if` block when the first test evaluates to `True`.\n",
    "\n",
    "---\n",
    "\n",
    "#### Instead consider the solution below.\n",
    "\n",
    "**TAKEAWAY:** \n",
    "- If you want only one block of code to run, use an `if-elif-else` chain.\n",
    "- If more than one block of code needs to run, use a series of independent `if` statements."
   ]
  },
  {
   "cell_type": "code",
   "execution_count": 60,
   "metadata": {},
   "outputs": [
    {
     "name": "stdout",
     "output_type": "stream",
     "text": [
      "Adding mushrooms...\n",
      "Adding extra cheese\n",
      "Your pizza is ready!\n"
     ]
    }
   ],
   "source": [
    "requested_toppings = ['mushrooms', 'extra cheese']\n",
    "\n",
    "if 'mushrooms' in requested_toppings:\n",
    "    print('Adding mushrooms...')\n",
    "\n",
    "if 'pepperoni' in requested_toppings:\n",
    "    print('Adding pepperoni...')\n",
    "\n",
    "if 'extra cheese' in requested_toppings:\n",
    "    print('Adding extra cheese')\n",
    "\n",
    "print(\"Your pizza is ready!\")"
   ]
  },
  {
   "cell_type": "code",
   "execution_count": null,
   "metadata": {
    "collapsed": true
   },
   "outputs": [],
   "source": []
  },
  {
   "cell_type": "markdown",
   "metadata": {},
   "source": [
    "##### And yes, you can just use a for loop instead.\n"
   ]
  },
  {
   "cell_type": "code",
   "execution_count": 61,
   "metadata": {},
   "outputs": [
    {
     "name": "stdout",
     "output_type": "stream",
     "text": [
      "Adding mushrooms...\n",
      "Adding extra cheese...\n",
      "Your pizza is ready!\n"
     ]
    }
   ],
   "source": [
    "\n",
    "for topping in requested_toppings:\n",
    "    print(\"Adding \" + topping + \"...\")\n",
    "\n",
    "print(\"Your pizza is ready!\")\n",
    "\n"
   ]
  },
  {
   "cell_type": "markdown",
   "metadata": {},
   "source": [
    "---\n",
    "\n",
    "## 6) Using Multiple Lists\n",
    "\n",
    "Let's review a program that uses two lists. \n",
    "\n",
    "##### What's happening in the code below?"
   ]
  },
  {
   "cell_type": "code",
   "execution_count": 62,
   "metadata": {},
   "outputs": [
    {
     "name": "stdout",
     "output_type": "stream",
     "text": [
      "Adding mushrooms.\n",
      "Sorry, we don't have french fries.\n",
      "Adding extra cheese.\n",
      "\n",
      "Finished making your pizza!\n"
     ]
    }
   ],
   "source": [
    "available_toppings = ['mushrooms', 'olives', 'green peppers',\n",
    "                      'pepperoni', 'pineapple', 'extra cheese']\n",
    "\n",
    "requested_toppings = ['mushrooms', 'french fries', 'extra cheese']\n",
    "\n",
    "for topping in requested_toppings:\n",
    "    if topping in available_toppings:\n",
    "        print(\"Adding \" + topping + \".\")\n",
    "    else:\n",
    "        print(\"Sorry, we don't have \" + topping + \".\")\n",
    "\n",
    "print(\"\\nFinished making your pizza!\")\n",
    "\n",
    "\n"
   ]
  },
  {
   "cell_type": "markdown",
   "metadata": {},
   "source": [
    "---\n",
    "\n",
    "### Checking that a list is not empty\n",
    "\n",
    "**Why is the if statement below working?**"
   ]
  },
  {
   "cell_type": "code",
   "execution_count": 63,
   "metadata": {},
   "outputs": [
    {
     "name": "stdout",
     "output_type": "stream",
     "text": [
      "Are you sure you want a plain pizza?\n"
     ]
    }
   ],
   "source": [
    "requested_toppings = []\n",
    "\n",
    "if requested_toppings:\n",
    "    for topping in requested_toppings:\n",
    "        print(\"Adding \" + topping + \".\")\n",
    "        print(\"\\nFinished making your pizza!\")\n",
    "else:\n",
    "    print(\"Are you sure you want a plain pizza?\")\n"
   ]
  },
  {
   "cell_type": "code",
   "execution_count": null,
   "metadata": {},
   "outputs": [],
   "source": []
  },
  {
   "cell_type": "markdown",
   "metadata": {},
   "source": [
    "### Introducing the concept of *'truthiness'*\n",
    "\n",
    "** Any object is either truthy or falsey**\n",
    "- Any object can be tested for truth value, for use in an `if` or `while` condition...\n",
    "- **DOCS:** https://docs.python.org/3/library/stdtypes.html#truth-value-testing\n",
    "- **stack:** https://stackoverflow.com/questions/49021823/understadning-truthiness-of-python-strings\n",
    "\n",
    "##### What's happening in the code below?"
   ]
  },
  {
   "cell_type": "code",
   "execution_count": 64,
   "metadata": {},
   "outputs": [
    {
     "name": "stdout",
     "output_type": "stream",
     "text": [
      "False\n"
     ]
    }
   ],
   "source": [
    "print(bool([]))\n"
   ]
  },
  {
   "cell_type": "code",
   "execution_count": 65,
   "metadata": {},
   "outputs": [
    {
     "name": "stdout",
     "output_type": "stream",
     "text": [
      "True\n"
     ]
    }
   ],
   "source": [
    "print(bool(7))\n"
   ]
  },
  {
   "cell_type": "code",
   "execution_count": 66,
   "metadata": {},
   "outputs": [
    {
     "name": "stdout",
     "output_type": "stream",
     "text": [
      "False\n"
     ]
    }
   ],
   "source": [
    "print(bool(None))\n",
    "\n",
    "## None is a built-in constant\n",
    "## DOCS: https://docs.python.org/3/library/constants.html"
   ]
  },
  {
   "cell_type": "code",
   "execution_count": 67,
   "metadata": {},
   "outputs": [
    {
     "name": "stdout",
     "output_type": "stream",
     "text": [
      "False\n"
     ]
    }
   ],
   "source": [
    "print(bool(''))\n"
   ]
  },
  {
   "cell_type": "markdown",
   "metadata": {},
   "source": [
    "---\n",
    "\n",
    "## PRACTICE! Let's put this knowledge to use!\n",
    "\n",
    "#### A) How can we combine the functionality of the previous pizza toppings programs ?"
   ]
  },
  {
   "cell_type": "code",
   "execution_count": 68,
   "metadata": {},
   "outputs": [
    {
     "name": "stdout",
     "output_type": "stream",
     "text": [
      "Adding mushrooms.\n",
      "Sorry, we don't have french fries.\n",
      "Adding extra cheese.\n",
      "Pizza finished!\n"
     ]
    }
   ],
   "source": [
    "# One solution....\n",
    "\n",
    "available_toppings = ['mushrooms', 'olives', 'green peppers',\n",
    "                      'pepperoni', 'pineapple', 'extra cheese']\n",
    "\n",
    "requested_toppings = ['mushrooms', 'french fries', 'extra cheese']\n",
    "\n",
    "\n",
    "if requested_toppings:\n",
    "    for topping in requested_toppings:\n",
    "        if topping in available_toppings:\n",
    "            print(\"Adding \" + topping + \".\")\n",
    "        else:\n",
    "            print(\"Sorry, we don't have \" + topping + \".\")\n",
    "    print('Pizza finished!')\n",
    "else:\n",
    "    print(\"Are you sure you want a plain pizza?\")\n",
    "\n"
   ]
  },
  {
   "cell_type": "markdown",
   "metadata": {},
   "source": [
    "---\n",
    "\n",
    "#### IMPORTANT NOTE:\n",
    "\n",
    "> Why can't I modify the `old_list` using a `for loop` instead of creating a `new_list`?\n",
    "https://www.quora.com/Why-can%E2%80%99t-you-modify-lists-through-for-in-loops-in-Python\n",
    "- Read question, comments, and answers\n",
    "- *DISCLAIMER:* may need to log in / create account for quora (**free**)\n",
    "\n",
    "**Basically:** \n",
    "- It is bad practice to modify a list using a `for loop` because of the risk of shortening the length of the list, and thus the index range.\n",
    "- Resulting in unexpected behavior.\n",
    "- You can use the `enumerate()` function in the `for loop` as a work around."
   ]
  },
  {
   "cell_type": "code",
   "execution_count": 69,
   "metadata": {},
   "outputs": [
    {
     "name": "stdout",
     "output_type": "stream",
     "text": [
      "item 1\n",
      "2\n",
      "three\n",
      "4\n",
      "cookie\n",
      "cookie\n",
      "cookie\n",
      "cookie\n",
      "cookie\n",
      "cookie\n",
      "['item 1', 2, 'three', 4, 'pie', 'pie', 'pie', 'pie', 'pie', 'pie']\n"
     ]
    }
   ],
   "source": [
    "# Example of inability to modify list in for loop\n",
    "\n",
    "old_list = ['item 1', 2, 'three', 4, 'pie',\n",
    "            'pie', 'pie', 'pie', 'pie', 'pie']\n",
    "\n",
    "for item in old_list:\n",
    "    if item == 'pie':\n",
    "        item = 'cookie'\n",
    "        print(item)\n",
    "    else:\n",
    "        print(item)\n",
    "    \n",
    "print(old_list)"
   ]
  },
  {
   "cell_type": "code",
   "execution_count": 70,
   "metadata": {},
   "outputs": [
    {
     "name": "stdout",
     "output_type": "stream",
     "text": [
      "['item 1', 2, 'three', 4, 'cookies', 'cookies', 'cookies', 'cookies', 'cookies', 'cookies']\n"
     ]
    }
   ],
   "source": [
    "# Example of workaround using enumerate() function\n",
    "\n",
    "old_list = ['item 1', 2, 'three', 4, 'pie', 'pie', 'pie', 'pie', 'pie', 'pie']\n",
    "\n",
    "for index, item in enumerate(old_list):\n",
    "    if item == 'pie':\n",
    "        old_list[index] = 'cookies'\n",
    "\n",
    "print(old_list)"
   ]
  },
  {
   "cell_type": "markdown",
   "metadata": {},
   "source": [
    "---\n",
    "\n",
    "#### B) When we print a message using a number from a variable, how can we print an ordinal number (such as 'th', 'st', 'rd')?\n",
    "\n",
    "Let's review one solution below, and translate the execution of the code to human-speak."
   ]
  },
  {
   "cell_type": "code",
   "execution_count": 74,
   "metadata": {},
   "outputs": [
    {
     "name": "stdout",
     "output_type": "stream",
     "text": [
      "What date? or How old are you turning? 32\n",
      "So it's the 32nd\n"
     ]
    }
   ],
   "source": [
    "# Translate for me please...\n",
    "\n",
    "n = int(input(\"What date? or How old are you turning? \"))\n",
    "\n",
    "# What's happening here?\n",
    "i = n if (n < 20) else (n % 10)\n",
    "\n",
    "# And here?\n",
    "if i == 1:\n",
    "  suffix = 'st'\n",
    "elif i == 2:\n",
    "  suffix = 'nd'\n",
    "elif i == 3:\n",
    "  suffix = 'rd'\n",
    "elif n < 100:\n",
    "  suffix = 'th'\n",
    "\n",
    "# Finally...\n",
    "print(\"So it's the \" + str(n) + suffix)\n"
   ]
  },
  {
   "cell_type": "markdown",
   "metadata": {
    "collapsed": true
   },
   "source": [
    "__Translation:__\n",
    "\n",
    "> `n = int(input(\"What date? or How old are you turning? \"))`\n",
    "- take input from a user and assign to variable `n`"
   ]
  },
  {
   "cell_type": "markdown",
   "metadata": {},
   "source": [
    "> `i = n if (n < 20) else (n % 10)`\n",
    "- Shorthand code that translates to: Make a new variable called `i` and assign it to `n` ONLY IF `n` is less than 20, otherwise assign `i` to the result of `n % 10`"
   ]
  },
  {
   "cell_type": "markdown",
   "metadata": {},
   "source": [
    "> `if i == 1:`\n",
    "\n",
    ">>   `suffix = 'st'`\n",
    "- If the remainder of `n % 10` is equal to 1, then assign `suffix` to `'st'`.\n"
   ]
  },
  {
   "cell_type": "markdown",
   "metadata": {},
   "source": [
    "> `elif i == 2:`\n",
    "\n",
    ">>   `suffix = 'nd'`\n",
    "- Otherwise, if the remainder of `n % 10` is equal to 2, then assign `suffix` to `'nd'`.\n"
   ]
  },
  {
   "cell_type": "markdown",
   "metadata": {},
   "source": [
    "> `elif i == 3:`\n",
    "\n",
    ">>   `suffix = 'rd'`\n",
    "- Otherwise, if the remainder of `n % 10` is equal to 3, then assign `suffix` to `'rd'`.\n"
   ]
  },
  {
   "cell_type": "markdown",
   "metadata": {},
   "source": [
    "> `elif n < 100:`\n",
    "\n",
    ">>   `suffix = 'th'`\n",
    "- Otherwise, if `n` is less than 100, then assign `suffix` to `'th'`.\n"
   ]
  },
  {
   "cell_type": "code",
   "execution_count": null,
   "metadata": {},
   "outputs": [],
   "source": []
  }
 ],
 "metadata": {
  "kernelspec": {
   "display_name": "Python 3",
   "language": "python",
   "name": "python3"
  },
  "language_info": {
   "codemirror_mode": {
    "name": "ipython",
    "version": 3
   },
   "file_extension": ".py",
   "mimetype": "text/x-python",
   "name": "python",
   "nbconvert_exporter": "python",
   "pygments_lexer": "ipython3",
   "version": "3.6.8"
  }
 },
 "nbformat": 4,
 "nbformat_minor": 2
}
